{
  "nbformat": 4,
  "nbformat_minor": 0,
  "metadata": {
    "colab": {
      "provenance": [],
      "toc_visible": true
    },
    "kernelspec": {
      "name": "python3",
      "display_name": "Python 3"
    },
    "language_info": {
      "name": "python"
    }
  },
  "cells": [
    {
      "cell_type": "markdown",
      "source": [
        "# Python basics"
      ],
      "metadata": {
        "id": "yh_-eqX2mjo_"
      }
    },
    {
      "cell_type": "code",
      "source": [
        "import time\n"
      ],
      "metadata": {
        "id": "iGiJ-HHe4rq4"
      },
      "execution_count": null,
      "outputs": []
    },
    {
      "cell_type": "markdown",
      "source": [
        "## Data Types"
      ],
      "metadata": {
        "id": "6DphBbvwmmjH"
      }
    },
    {
      "cell_type": "code",
      "source": [
        "# @title Datatypes available in python\n",
        "\n",
        "# Integer\n",
        "i = 1\n",
        "print(type(i), i)\n",
        "\n",
        "# Float\n",
        "f = 1.0\n",
        "print(type(f), f)\n",
        "\n",
        "# String\n",
        "s = \"hello\"\n",
        "print(type(s), s)\n",
        "\n",
        "# Boolean\n",
        "b = True\n",
        "print(type(b), b)\n",
        "\n",
        "# Complex\n",
        "c = 1+2j\n",
        "print(type(c), c)\n",
        "\n",
        "# None\n",
        "n = None\n",
        "print(type(n), n)\n"
      ],
      "metadata": {
        "colab": {
          "base_uri": "https://localhost:8080/"
        },
        "id": "aTkyKuWunKC2",
        "outputId": "fddad365-b560-4850-b287-a6f23b6ba1b5"
      },
      "execution_count": null,
      "outputs": [
        {
          "output_type": "stream",
          "name": "stdout",
          "text": [
            "<class 'int'> 1\n",
            "<class 'float'> 1.0\n",
            "<class 'str'> hello\n",
            "<class 'bool'> True\n",
            "<class 'list'> [1, 2, 3]\n",
            "<class 'tuple'> (1, 2, 3)\n",
            "<class 'dict'> {'a': 1, 'b': 2}\n",
            "<class 'set'> {1, 2, 3}\n",
            "<class 'complex'> (1+2j)\n",
            "<class 'NoneType'> None\n"
          ]
        }
      ]
    },
    {
      "cell_type": "code",
      "source": [
        "# @title Containers\n",
        "\n",
        "# List\n",
        "l = [1, 2, 3]\n",
        "print(type(l), l)\n",
        "\n",
        "# Tuple\n",
        "t = (1, 2, 3)\n",
        "print(type(t), t)\n",
        "\n",
        "# Dictionary\n",
        "d = {\"a\": 1, \"b\": 2}\n",
        "print(type(d), d)\n",
        "\n",
        "# Set\n",
        "se = {1, 2, 3}\n",
        "print(type(se), se)\n",
        "\n"
      ],
      "metadata": {
        "id": "0g8EDnSbo7i_"
      },
      "execution_count": null,
      "outputs": []
    },
    {
      "cell_type": "code",
      "source": [
        "# @title Accessing elements or slice of elements in containers\n",
        "\n",
        "# List\n",
        "l = [1, 2, 3, 4, 5]\n",
        "print(l[0])  # Accessing the first element (index 0)\n",
        "print(l[-1]) # Accessing the last element\n",
        "print(l[1:4]) # Accessing a slice from index 1 up to (but not including) index 4\n",
        "print(l[:3])  # Accessing a slice from the beginning up to (but not including) index 3\n",
        "print(l[2:])  # Accessing a slice from index 2 to the end\n",
        "print(l[-3:]) # Accessing the last three elements\n",
        "\n",
        "# Tuple (similar to lists)\n",
        "t = (1, 2, 3, 4, 5)\n",
        "print(t[0])\n",
        "print(t[1:4])\n",
        "\n",
        "\n"
      ],
      "metadata": {
        "colab": {
          "base_uri": "https://localhost:8080/"
        },
        "id": "dhNSSLsdrwQw",
        "outputId": "ea22c5c1-6f05-4bc5-b536-509bd3a80177"
      },
      "execution_count": null,
      "outputs": [
        {
          "output_type": "stream",
          "name": "stdout",
          "text": [
            "1\n",
            "5\n",
            "[2, 3, 4]\n",
            "[1, 2, 3]\n",
            "[3, 4, 5]\n",
            "[3, 4, 5]\n",
            "1\n",
            "(2, 3, 4)\n"
          ]
        }
      ]
    },
    {
      "cell_type": "code",
      "source": [
        "# Dictionary\n",
        "d = {\"a\": 1, \"b\": 2, \"c\": 3}\n",
        "print(d[\"a\"]) # Accessing the value associated with key \"a\"\n",
        "print(d.get(\"b\")) # Accessing using the get method (returns None if key doesn't exist)\n",
        "print(d.keys()) # Accessing keys\n",
        "print(d.values()) # Accessing values\n",
        "\n",
        "\n",
        "# Set (unordered collection of unique elements)\n",
        "se = {1, 2, 3, 4, 5}\n",
        "# Sets don't support indexing or slicing in the same way as lists or tuples.\n",
        "# You can iterate through the elements or check for membership.\n",
        "print(1 in se)  # Check if 1 is in the set\n",
        "for element in se:\n",
        "    print(element)\n",
        "\n"
      ],
      "metadata": {
        "colab": {
          "base_uri": "https://localhost:8080/"
        },
        "id": "a-cA719tsGWx",
        "outputId": "778db775-96b4-48d7-d65b-df76d4d335bb"
      },
      "execution_count": null,
      "outputs": [
        {
          "output_type": "stream",
          "name": "stdout",
          "text": [
            "1\n",
            "2\n",
            "dict_keys(['a', 'b', 'c'])\n",
            "dict_values([1, 2, 3])\n",
            "True\n",
            "1\n",
            "2\n",
            "3\n",
            "4\n",
            "5\n"
          ]
        }
      ]
    },
    {
      "cell_type": "code",
      "source": [
        "# @title Conversion of datatypes\n",
        "\n",
        "# Integer to String\n",
        "i = 1\n",
        "print(f\" Before conversion {type(i)} \", end=\"\")\n",
        "s = str(i)\n",
        "print(f\" After conversion {type(s)} \", s)\n",
        "\n",
        "# Float to Integer\n",
        "f = 1.5\n",
        "print(f\" Before conversion {type(f)} \", end=\"\")\n",
        "i = int(f)\n",
        "print(f\" After conversion {type(i)} \", i)\n",
        "\n",
        "\n",
        "# String to Integer\n",
        "s = \"1\"\n",
        "print(f\" Before conversion {type(s)} \", end=\"\")\n",
        "i = int(s)\n",
        "print(f\" After conversion {type(i)} \", i)\n",
        "\n",
        "\n",
        "# String to Float\n",
        "s = \"1.5\"\n",
        "print(f\" Before conversion {type(s)} \", end=\"\")\n",
        "f = float(s)\n",
        "print(f\" After conversion {type(f)} \", f)\n",
        "\n",
        "\n",
        "# Boolean to Integer\n",
        "b = True\n",
        "print(f\" Before conversion {type(b)} \", end=\"\")\n",
        "i = int(b)  # True is 1, False is 0\n",
        "print(f\" After conversion {type(i)} \", i)\n",
        "\n",
        "# Integer to Boolean\n",
        "i = 1\n",
        "print(f\" Before conversion {type(i)} \", end=\"\")\n",
        "b = bool(i) # non-zero is True\n",
        "print(f\" After conversion {type(b)} \", b)\n",
        "\n",
        "i = 0\n",
        "print(f\" Before conversion {type(i)} \", end=\"\")\n",
        "b = bool(i) # zero is False\n",
        "print(f\" After conversion {type(b)} \", b)\n",
        "\n",
        "# List to Tuple\n",
        "l = [1, 2, 3]\n",
        "print(f\" Before conversion {type(l)} \", end=\"\")\n",
        "t = tuple(l)\n",
        "print(f\" After conversion {type(t)} \", t)\n",
        "\n",
        "\n",
        "# Tuple to List\n",
        "t = (1, 2, 3)\n",
        "print(f\" Before conversion {type(t)} \", end=\"\")\n",
        "l = list(t)\n",
        "print(f\" After conversion {type(l)} \", l)\n",
        "\n",
        "# String to List\n",
        "s = \"hello\"\n",
        "print(f\" Before conversion {type(s)} \", end=\"\")\n",
        "l = list(s)\n",
        "print(f\" After conversion {type(l)} \", l)\n",
        "\n"
      ],
      "metadata": {
        "colab": {
          "base_uri": "https://localhost:8080/"
        },
        "id": "54_iwxlZoGn2",
        "outputId": "24d6cea0-179f-4f8e-faed-be158a32c332"
      },
      "execution_count": null,
      "outputs": [
        {
          "output_type": "stream",
          "name": "stdout",
          "text": [
            " Before conversion <class 'int'>  After conversion <class 'str'>  1\n",
            " Before conversion <class 'float'>  After conversion <class 'int'>  1\n",
            " Before conversion <class 'str'>  After conversion <class 'int'>  1\n",
            " Before conversion <class 'str'>  After conversion <class 'float'>  1.5\n",
            " Before conversion <class 'bool'>  After conversion <class 'int'>  1\n",
            " Before conversion <class 'int'>  After conversion <class 'bool'>  True\n",
            " Before conversion <class 'int'>  After conversion <class 'bool'>  False\n",
            " Before conversion <class 'list'>  After conversion <class 'tuple'>  (1, 2, 3)\n",
            " Before conversion <class 'tuple'>  After conversion <class 'list'>  [1, 2, 3]\n",
            " Before conversion <class 'str'>  After conversion <class 'list'>  ['h', 'e', 'l', 'l', 'o']\n"
          ]
        }
      ]
    },
    {
      "cell_type": "code",
      "source": [
        "# @title Mutable and Immutable datatypes\n",
        "\n",
        "# Mutable data types can be changed after creation, while immutable data types cannot.\n",
        "\n",
        "# Example of mutable data type (list)\n",
        "my_list = [1, 2, 3]\n",
        "print(\"Original list:\", my_list)  # Output: Original list: [1, 2, 3]\n",
        "\n",
        "my_list[0] = 10  # Modify the first element\n",
        "print(\"Modified list:\", my_list)  # Output: Modified list: [10, 2, 3]\n",
        "\n",
        "\n",
        "# Example of immutable data type (string)\n",
        "my_string = \"hello\"\n",
        "print(\"Original string:\", my_string)  # Output: Original string: hello\n",
        "\n",
        "# Attempting to modify the string directly will raise an error\n",
        "# my_string[0] = 'H'  # This will result in a TypeError\n",
        "\n",
        "# Instead, create a new string with the modification\n",
        "new_string = \"H\" + my_string[1:]\n",
        "print(\"New string:\", new_string)  # Output: New string: Hello\n",
        "\n",
        "\n",
        "# Example of immutable data type (tuple)\n",
        "my_tuple = (1,2,3)\n",
        "print(\"Original Tuple\", my_tuple) # Original Tuple (1, 2, 3)\n",
        "\n",
        "# my_tuple[0] = 10 # This will result in a TypeError\n",
        "\n"
      ],
      "metadata": {
        "colab": {
          "base_uri": "https://localhost:8080/"
        },
        "id": "y_eqVsSComQ7",
        "outputId": "1b6cf49a-912d-41f3-a8f5-34523a70c8f4"
      },
      "execution_count": null,
      "outputs": [
        {
          "output_type": "stream",
          "name": "stdout",
          "text": [
            "Original list: [1, 2, 3]\n",
            "Modified list: [10, 2, 3]\n",
            "Original string: hello\n",
            "New string: Hello\n",
            "Original Tuple (1, 2, 3)\n",
            "List after function call: [100, 2, 3]\n",
            "String after function call: Old String\n",
            "New string after function call: New String\n"
          ]
        }
      ]
    },
    {
      "cell_type": "markdown",
      "source": [
        "## Built in functions"
      ],
      "metadata": {
        "id": "QGHJTY_rpyvg"
      }
    },
    {
      "cell_type": "code",
      "source": [
        "# prompt: usecase of type and isinstance, use f strings for print examples\n",
        "\n",
        "# Example usage of type()\n",
        "x = 10\n",
        "print(f\"{x = }\")\n",
        "print(f\"The type of x is: {type(x)}\")  # Output: The type of x is: <class 'int'>\n",
        "\n",
        "y = \"Hello\"\n",
        "print(f\"{y = }\")\n",
        "print(f\"The type of y is: {type(y)}\")  # Output: The type of y is: <class 'str'>\n",
        "\n",
        "z = [1, 2, 3]\n",
        "print(f\"{z = }\")\n",
        "print(f\"The type of z is: {type(z)}\")  # Output: The type of z is: <class 'list'>\n",
        "\n",
        "\n",
        "# Example usage of isinstance()\n",
        "a = 5\n",
        "print(f\"{a = }\")\n",
        "print(f\"Is a an integer? {isinstance(a, int)}\")  # Output: Is a an integer? True\n",
        "print(f\"Is a a string? {isinstance(a, str)}\")  # Output: Is a a string? False\n",
        "\n",
        "b = \"Python\"\n",
        "print(f\"{b = }\")\n",
        "print(f\"Is b a string? {isinstance(b, str)}\")  # Output: Is b a string? True\n",
        "print(f\"Is b a list? {isinstance(b, list)}\")  # Output: Is b a list? False\n",
        "\n",
        "\n",
        "# Checking for multiple types\n",
        "c = 10.5\n",
        "print(f\"{c = }\")\n",
        "print(f\"Is c a number (int or float)? {isinstance(c, (int, float))}\") # Output: Is c a number (int or float)? True\n",
        "\n"
      ],
      "metadata": {
        "colab": {
          "base_uri": "https://localhost:8080/"
        },
        "id": "YxhiEriIuBC-",
        "outputId": "4782be3e-39b7-44df-d722-a1d72ec5428d"
      },
      "execution_count": null,
      "outputs": [
        {
          "output_type": "stream",
          "name": "stdout",
          "text": [
            "x = 10\n",
            "The type of x is: <class 'int'>\n",
            "y = 'Hello'\n",
            "The type of y is: <class 'str'>\n",
            "z = [1, 2, 3]\n",
            "The type of z is: <class 'list'>\n",
            "a = 5\n",
            "Is a an integer? True\n",
            "Is a a string? False\n",
            "b = 'Python'\n",
            "Is b a string? True\n",
            "Is b a list? False\n",
            "c = 10.5\n",
            "Is c a number (int or float)? True\n"
          ]
        }
      ]
    },
    {
      "cell_type": "code",
      "source": [
        "# @title sort, sorted, map, filter\n",
        "\n",
        "# Examples of built-in functions\n",
        "\n",
        "# sort() - Sorts a list *in-place*.  Modifies the original list.\n",
        "my_list = [3, 1, 4, 1, 5, 9, 2, 6]\n",
        "my_list.sort()  # sorts the list itself\n",
        "print(f\"my_list after sort(): {my_list}\") # Output: [1, 1, 2, 3, 4, 5, 6, 9]\n",
        "\n",
        "# sorted() - Returns a *new* sorted list. The original list is unchanged.\n",
        "my_list = [3, 1, 4, 1, 5, 9, 2, 6]\n",
        "new_list = sorted(my_list)\n",
        "print(f\"my_list after sorted(): {my_list}\") # Output: [3, 1, 4, 1, 5, 9, 2, 6] (original list is unchanged)\n",
        "print(f\"new_list from sorted(): {new_list}\") # Output: [1, 1, 2, 3, 4, 5, 6, 9] (new sorted list)\n",
        "\n",
        "\n",
        "# sorted(key=) -  Allows custom sorting logic using a key function.\n",
        "# Example: Sort a list of strings by length\n",
        "strings = [\"apple\", \"banana\", \"kiwi\", \"orange\"]\n",
        "sorted_strings = sorted(strings, key=len)\n",
        "print(f\"Strings sorted by length: {sorted_strings}\") # Output: ['kiwi', 'apple', 'orange', 'banana']\n",
        "\n",
        "\n",
        "# map() - Applies a function to each item in an iterable (e.g., list, tuple). Returns a map object (an iterator).\n",
        "numbers = [1, 2, 3, 4, 5]\n",
        "squared_numbers = map(lambda x: x**2, numbers) # returns a map object\n",
        "squared_numbers_list = list(squared_numbers) # convert to list for printing\n",
        "print(f\"Squared numbers: {squared_numbers_list}\") # Output: [1, 4, 9, 16, 25]\n",
        "\n",
        "# filter() - Filters elements from an iterable based on a function that returns True or False.\n",
        "numbers = [1, 2, 3, 4, 5, 6]\n",
        "even_numbers = filter(lambda x: x % 2 == 0, numbers) # returns filter object\n",
        "even_numbers_list = list(even_numbers)\n",
        "print(f\"Even numbers: {even_numbers_list}\") # Output: [2, 4, 6]\n",
        "\n",
        "\n",
        "\n"
      ],
      "metadata": {
        "colab": {
          "base_uri": "https://localhost:8080/"
        },
        "id": "_Wx52v9HpZhQ",
        "outputId": "b01a6dd7-e071-4499-d5ba-cec5f4200353"
      },
      "execution_count": null,
      "outputs": [
        {
          "output_type": "stream",
          "name": "stdout",
          "text": [
            "my_list after sort(): [1, 1, 2, 3, 4, 5, 6, 9]\n",
            "my_list after sorted(): [3, 1, 4, 1, 5, 9, 2, 6]\n",
            "new_list from sorted(): [1, 1, 2, 3, 4, 5, 6, 9]\n",
            "Strings sorted by length: ['kiwi', 'apple', 'banana', 'orange']\n",
            "Squared numbers: [1, 4, 9, 16, 25]\n",
            "Even numbers: [2, 4, 6]\n"
          ]
        }
      ]
    },
    {
      "cell_type": "code",
      "source": [
        "# @title Packing and unpacking using *, args, kwargs\n",
        "\n",
        "# Packing and unpacking using *, args, kwargs\n",
        "\n",
        "# Packing -\n",
        "# args take arbitary positional arguments,\n",
        "# kwargs take keyword arguments\n",
        "\n",
        "def my_function(*args, **kwargs):\n",
        "    print(\"Args:\", args)  # args is a tuple of positional arguments\n",
        "    print(\"Kwargs:\", kwargs)  # kwargs is a dictionary of keyword arguments\n",
        "\n",
        "\n",
        "my_function(1, 2, 3, a=4, b=5)\n",
        "\n",
        "\n",
        "# Unpacking\n",
        "\n",
        "# Unpacking a list or tuple into positional arguments\n",
        "my_list = [1, 2, 3]\n",
        "my_function(*my_list)  # Equivalent to my_function(1, 2, 3)\n",
        "\n",
        "\n",
        "\n",
        "# Unpacking a dictionary into keyword arguments\n",
        "my_dict = {\"a\": 4, \"b\": 5}\n",
        "my_function(**my_dict)  # Equivalent to my_function(a=4, b=5)\n",
        "\n"
      ],
      "metadata": {
        "colab": {
          "base_uri": "https://localhost:8080/"
        },
        "id": "MfelPeHOqbxM",
        "outputId": "41f311ff-9ac9-42ca-884e-80cd336af6a6"
      },
      "execution_count": null,
      "outputs": [
        {
          "output_type": "stream",
          "name": "stdout",
          "text": [
            "Args: (1, 2, 3)\n",
            "Kwargs: {'a': 4, 'b': 5}\n",
            "Args: (1, 2, 3)\n",
            "Kwargs: {}\n",
            "Args: ()\n",
            "Kwargs: {'a': 4, 'b': 5}\n"
          ]
        }
      ]
    },
    {
      "cell_type": "code",
      "source": [
        "# @title Combining packing and unpacking\n",
        "def another_function(x, y, z):\n",
        "    print(\"x:\", x)\n",
        "    print(\"y:\", y)\n",
        "    print(\"z:\", z)\n",
        "\n",
        "my_list = [10, 20]\n",
        "another_function(*my_list, z=30) # unpacking my_list to x,y and providing z separately\n",
        "\n",
        "\n",
        "# Using * to unpack iterables in other contexts\n",
        "my_list = [1, 2, 3, 4, 5]\n",
        "first, second, *rest = my_list # First two elements are assigned and rest of the elements are packed in rest\n",
        "\n",
        "print(first, second, rest) # Output 1 2 [3, 4, 5]\n"
      ],
      "metadata": {
        "colab": {
          "base_uri": "https://localhost:8080/"
        },
        "id": "wvrZsODQrUSx",
        "outputId": "28435f65-f65d-42fc-cefe-dbf97155eeb7"
      },
      "execution_count": null,
      "outputs": [
        {
          "output_type": "stream",
          "name": "stdout",
          "text": [
            "x: 10\n",
            "y: 20\n",
            "z: 30\n",
            "1 2 [3, 4, 5]\n"
          ]
        }
      ]
    },
    {
      "cell_type": "code",
      "source": [
        "# @title Difference bw is and ==\n",
        "\n",
        "# 'is' operator checks for object identity (memory location)\n",
        "# '==' operator checks for value equality\n",
        "\n",
        "a = [1, 2, 3]\n",
        "b = [1, 2, 3]\n",
        "c = a\n",
        "\n",
        "print(f\"a is b: {a is b}\")  # False because a and b are different objects in memory\n",
        "print(f\"a == b: {a == b}\")  # True because they have the same value\n",
        "print(f\"id(a): {id(a)}\")\n",
        "print(f\"id(b): {id(b)}\")\n",
        "print(f\"a is c: {a is c}\") # True since both variables point to the same object\n",
        "print(f\"id(c): {id(c)}\")\n",
        "\n",
        "# When to use 'is'\n",
        "# 1. Checking for None:\n",
        "x = None\n",
        "print(f\"x is None: {x is None}\")  # This is the preferred way to check for None in Python\n",
        "\n",
        "# 2. Singleton objects:\n",
        "# In Python, some objects like True, False, and None are singletons (only one instance).\n",
        "# Using 'is' is efficient and appropriate for them:\n",
        "y = True\n",
        "print(f\"y is True: {y is True}\")\n",
        "\n",
        "\n",
        "# When to use '=='\n",
        "# In almost all other cases when comparing values, it is better to use the '==' operator:\n",
        "# Comparing any data type where multiple objects with the same value might exist.\n",
        "# It is more explicit and safer in most situations than 'is'.\n",
        "\n",
        "# Important optimization\n",
        "num1 = 10\n",
        "num2 = 10\n",
        "print(f\"num1 == num2: {num1 == num2}\")  # Output: True\n",
        "print(f\"num1 is num2: {num1 is num2}\")  # Output: True (Python's optimization for small integers)\n",
        "\n",
        "num3 = 257\n",
        "num4 = 257\n",
        "\n",
        "print(f\"num3 == num4: {num3 == num4}\")  # Output: True\n",
        "print(f\"num3 is num4: {num3 is num4}\")  # Output: False (integers greater than 256 might not be singletons for efficiency reasons)\n",
        "\n",
        "# Example with strings (not singletons)\n",
        "str1 = \"hello\"\n",
        "str2 = \"hello\"\n",
        "print(f\"str1 is str2: {str1 is str2}\")  # Might be True in some cases due to string interning.  Use '==' instead.\n",
        "print(f\"str1 == str2: {str1 == str2}\")  # Always True for equal strings\n",
        "\n"
      ],
      "metadata": {
        "colab": {
          "base_uri": "https://localhost:8080/"
        },
        "id": "6_92R19Nrd-A",
        "outputId": "8a0b7688-4928-4035-d452-b8d5e7c3c4fa"
      },
      "execution_count": null,
      "outputs": [
        {
          "output_type": "stream",
          "name": "stdout",
          "text": [
            "a is b: False\n",
            "a == b: True\n",
            "id(a): 140710097658304\n",
            "id(b): 140710097924864\n",
            "a is c: True\n",
            "id(c): 140710097658304\n",
            "x is None: True\n",
            "y is True: True\n",
            "num1 == num2: True\n",
            "num1 is num2: True\n",
            "num3 == num4: True\n",
            "num3 is num4: False\n",
            "str1 is str2: True\n",
            "str1 == str2: True\n"
          ]
        }
      ]
    },
    {
      "cell_type": "code",
      "source": [
        "# @title shallow vs deep copy\n",
        "\n",
        "import copy\n",
        "\n",
        "# Original list\n",
        "original_list = [1, 2, [3, 4]]\n",
        "print(f\"Original list id: {id(original_list)}\")\n",
        "\n",
        "# Shallow copy\n",
        "shallow_copy = copy.copy(original_list)\n",
        "print(f\"Shallow copy id: {id(shallow_copy)}\")\n",
        "print(f\"Original list[2] id: {id(original_list[2])}\")\n",
        "print(f\"Shallow copy[2] id: {id(shallow_copy[2])}\")\n",
        "\n",
        "# Modify the shallow copy\n",
        "shallow_copy[0] = 10\n",
        "shallow_copy[2].append(5)  # Modifies the nested list in both original and shallow copy\n",
        "\n",
        "print(\"Original list:\", original_list)\n",
        "print(\"Shallow copy:\", shallow_copy)\n",
        "\n",
        "\n",
        "# Deep copy\n",
        "deep_copy = copy.deepcopy(original_list)\n",
        "print(f\"Deep copy id: {id(deep_copy)}\")\n",
        "print(f\"Original list[2] id: {id(original_list[2])}\")\n",
        "print(f\"Deep copy[2] id: {id(deep_copy[2])}\")\n",
        "\n",
        "\n",
        "# Modify the deep copy\n",
        "deep_copy[0] = 20\n",
        "deep_copy[2].append(6) # Modifies the nested list only in the deep copy\n",
        "\n",
        "print(\"Original list:\", original_list)\n",
        "print(\"Deep copy:\", deep_copy)\n"
      ],
      "metadata": {
        "colab": {
          "base_uri": "https://localhost:8080/"
        },
        "id": "koDy6EjitLMq",
        "outputId": "9d892bcf-0a8b-4b95-b2d6-2cc6524394e9"
      },
      "execution_count": null,
      "outputs": [
        {
          "output_type": "stream",
          "name": "stdout",
          "text": [
            "Original list id: 140710918555200\n",
            "Shallow copy id: 140710918557376\n",
            "Original list[2] id: 140710921755008\n",
            "Shallow copy[2] id: 140710921755008\n",
            "Original list: [1, 2, [3, 4, 5]]\n",
            "Shallow copy: [10, 2, [3, 4, 5]]\n",
            "Deep copy id: 140710918558144\n",
            "Original list[2] id: 140710921755008\n",
            "Deep copy[2] id: 140710918557696\n",
            "Original list: [1, 2, [3, 4, 5]]\n",
            "Deep copy: [20, 2, [3, 4, 5, 6]]\n"
          ]
        }
      ]
    },
    {
      "cell_type": "markdown",
      "source": [
        "# Python Intermediate"
      ],
      "metadata": {
        "id": "KOEnn_LNvxJq"
      }
    },
    {
      "cell_type": "code",
      "source": [
        "# @title Generator, iterators\n",
        "\n",
        "# Generator example: Fibonacci sequence\n",
        "def fibonacci_generator(n):\n",
        "    a, b = 0, 1\n",
        "    for _ in range(n):\n",
        "        yield a\n",
        "        a, b = b, a + b\n",
        "\n",
        "fib_gen = fibonacci_generator(10)\n",
        "print(\"Generator example (Fibonacci):\")\n",
        "for num in fib_gen:\n",
        "    print(num, end=\" \")\n",
        "print()\n",
        "\n",
        "\n",
        "# Iterator example: Iterating through a list\n",
        "my_list = [1, 2, 3, 4, 5]\n",
        "my_iterator = iter(my_list)  # Create an iterator object\n",
        "\n",
        "print(\"\\nIterator example (List):\")\n",
        "try:\n",
        "    while True:\n",
        "        element = next(my_iterator)  # Get the next element\n",
        "        print(element, end=\" \")\n",
        "except StopIteration:\n",
        "    pass  # Handle the end of the iteration\n",
        "print()\n",
        "\n"
      ],
      "metadata": {
        "colab": {
          "base_uri": "https://localhost:8080/"
        },
        "id": "bVKpslpCx01D",
        "outputId": "61c054b2-e085-4e0f-bf9a-59ebfacd5d29"
      },
      "execution_count": null,
      "outputs": [
        {
          "output_type": "stream",
          "name": "stdout",
          "text": [
            "Generator example (Fibonacci):\n",
            "0 1 1 2 3 5 8 13 21 34 \n",
            "\n",
            "Iterator example (List):\n",
            "1 2 3 4 5 \n"
          ]
        }
      ]
    },
    {
      "cell_type": "code",
      "source": [
        "# @title Decorator\n",
        "\n",
        "# function (func) is passed as first class object\n",
        "def my_decorator(func):\n",
        "\n",
        "  def wrapper(*args, **kwargs):\n",
        "    print(\"Before function execution\")\n",
        "    result = func(*args, **kwargs)\n",
        "    print(\"After function execution\")\n",
        "    return result\n",
        "\n",
        "  return wrapper\n",
        "\n",
        "@my_decorator\n",
        "def say_hello(name):\n",
        "  \"\"\"This function greets the person passed in as a parameter.\"\"\"\n",
        "  print(f\"Hello, {name}!\")\n",
        "\n",
        "say_hello(\"Alice\")\n",
        "# lost meta data of original function\n",
        "print(f\"{say_hello.__name__ = }\")\n",
        "print(f\"{say_hello.__doc__ = }\")\n"
      ],
      "metadata": {
        "colab": {
          "base_uri": "https://localhost:8080/"
        },
        "id": "nTgDdyA0x4JU",
        "outputId": "a566662b-57ff-48df-cba6-b3c76aaf4cff"
      },
      "execution_count": null,
      "outputs": [
        {
          "output_type": "stream",
          "name": "stdout",
          "text": [
            "Before function execution\n",
            "Hello, Alice!\n",
            "After function execution\n",
            "say_hello.__name__ = 'wrapper'\n",
            "say_hello.__doc__ = None\n"
          ]
        }
      ]
    },
    {
      "cell_type": "code",
      "source": [
        "# @title list and dict comprehensions\n",
        "\n",
        "# List comprehension\n",
        "numbers = [1, 2, 3, 4, 5]\n",
        "squared_numbers = [x**2 for x in numbers]\n",
        "print(f\"Squared numbers using list comprehension: {squared_numbers}\")\n",
        "\n",
        "# Dictionary comprehension\n",
        "numbers = [1, 2, 3, 4, 5]\n",
        "squared_numbers_dict = {x: x**2 for x in numbers}\n",
        "print(f\"Squared numbers using dictionary comprehension: {squared_numbers_dict}\")\n",
        "\n",
        "# List comprehension with conditional\n",
        "even_numbers = [x for x in numbers if x % 2 == 0]\n",
        "print(f\"Even numbers using list comprehension with conditionals: {even_numbers}\")\n"
      ],
      "metadata": {
        "id": "NNB9cngbxhjf"
      },
      "execution_count": null,
      "outputs": []
    },
    {
      "cell_type": "code",
      "source": [
        "# @title assert\n",
        "# Dont use assertions as validation check, assertions can be disabled\n",
        "\n",
        "assert 1 == 1, \"1 is equal to 1\"\n",
        "assert 1 == 2, \"This assertion will fail\"\n"
      ],
      "metadata": {
        "colab": {
          "base_uri": "https://localhost:8080/",
          "height": 176
        },
        "id": "lM-ji-SBxhg0",
        "outputId": "3675ae4b-42d1-44a7-bad3-15cc8a109c01"
      },
      "execution_count": null,
      "outputs": [
        {
          "output_type": "error",
          "ename": "AssertionError",
          "evalue": "This assertion will fail",
          "traceback": [
            "\u001b[0;31m---------------------------------------------------------------------------\u001b[0m",
            "\u001b[0;31mAssertionError\u001b[0m                            Traceback (most recent call last)",
            "\u001b[0;32m<ipython-input-25-8b20bb38432a>\u001b[0m in \u001b[0;36m<cell line: 0>\u001b[0;34m()\u001b[0m\n\u001b[1;32m      2\u001b[0m \u001b[0;34m\u001b[0m\u001b[0m\n\u001b[1;32m      3\u001b[0m \u001b[0;32massert\u001b[0m \u001b[0;36m1\u001b[0m \u001b[0;34m==\u001b[0m \u001b[0;36m1\u001b[0m\u001b[0;34m,\u001b[0m \u001b[0;34m\"1 is equal to 1\"\u001b[0m\u001b[0;34m\u001b[0m\u001b[0;34m\u001b[0m\u001b[0m\n\u001b[0;32m----> 4\u001b[0;31m \u001b[0;32massert\u001b[0m \u001b[0;36m1\u001b[0m \u001b[0;34m==\u001b[0m \u001b[0;36m2\u001b[0m\u001b[0;34m,\u001b[0m \u001b[0;34m\"This assertion will fail\"\u001b[0m\u001b[0;34m\u001b[0m\u001b[0;34m\u001b[0m\u001b[0m\n\u001b[0m",
            "\u001b[0;31mAssertionError\u001b[0m: This assertion will fail"
          ]
        }
      ]
    },
    {
      "cell_type": "code",
      "source": [
        "# @title lambda function\n",
        "\n",
        "add_one = lambda x: x + 1\n",
        "print(add_one(5))  # Output: 6\n",
        "\n",
        "multiply = lambda x, y: x * y\n",
        "print(multiply(3, 4))  # Output: 12\n",
        "\n"
      ],
      "metadata": {
        "colab": {
          "base_uri": "https://localhost:8080/"
        },
        "id": "qlxqRojjxhbb",
        "outputId": "05b85659-4e11-431c-9002-9c717b64c549"
      },
      "execution_count": null,
      "outputs": [
        {
          "output_type": "stream",
          "name": "stdout",
          "text": [
            "6\n",
            "12\n"
          ]
        }
      ]
    },
    {
      "cell_type": "code",
      "source": [
        "# Lambda functions are commonly used with higher-order functions like map, filter, and sorted\n",
        "numbers = [1, 2, 3, 4, 5]\n",
        "\n",
        "# Using lambda with map\n",
        "squared_numbers = list(map(lambda x: x**2, numbers))\n",
        "print(f\"{squared_numbers=}\") # Output: [1, 4, 9, 16, 25]\n",
        "\n",
        "# Using lambda with filter\n",
        "even_numbers = list(filter(lambda x: x % 2 == 0, numbers))\n",
        "print(f\"{even_numbers=}\") # Output: [2, 4]\n",
        "\n",
        "\n",
        "# Using lambda with sorted\n",
        "points = [(1, 2), (3, 1), (0, 4)]\n",
        "sorted_points = sorted(points, key=lambda p: p[1]) # Sort by y coordinate\n",
        "print(f\"{sorted_points=}\") # Output: [(3, 1), (1, 2), (0, 4)]\n"
      ],
      "metadata": {
        "colab": {
          "base_uri": "https://localhost:8080/"
        },
        "id": "nPCJFAw8xhZD",
        "outputId": "15fc5c05-970a-4e5a-e3c5-0c88e565d77e"
      },
      "execution_count": null,
      "outputs": [
        {
          "output_type": "stream",
          "name": "stdout",
          "text": [
            "squared_numbers=[1, 4, 9, 16, 25]\n",
            "even_numbers=[2, 4]\n",
            "sorted_points=[(3, 1), (1, 2), (0, 4)]\n"
          ]
        }
      ]
    },
    {
      "cell_type": "code",
      "source": [],
      "metadata": {
        "id": "47B6AQ6DxhT2"
      },
      "execution_count": null,
      "outputs": []
    },
    {
      "cell_type": "code",
      "source": [],
      "metadata": {
        "id": "7y-kKJj5xhQ6"
      },
      "execution_count": null,
      "outputs": []
    },
    {
      "cell_type": "code",
      "source": [],
      "metadata": {
        "id": "8A2VRCenxhNy"
      },
      "execution_count": null,
      "outputs": []
    },
    {
      "cell_type": "code",
      "source": [],
      "metadata": {
        "id": "1ybwtGSixhKt"
      },
      "execution_count": null,
      "outputs": []
    },
    {
      "cell_type": "markdown",
      "source": [
        "# Builld in libraries"
      ],
      "metadata": {
        "id": "E2PTVz7wxi09"
      }
    },
    {
      "cell_type": "markdown",
      "source": [
        "## functools"
      ],
      "metadata": {
        "id": "qbSzJSmXxnJG"
      }
    },
    {
      "cell_type": "code",
      "source": [
        "# @title Decorator - functools.wraps\n",
        "\n",
        "import functools\n",
        "\n",
        "def my_decorator(func):\n",
        "\n",
        "  @functools.wraps(func) # preserves original function metadata\n",
        "  def wrapper(*args, **kwargs):\n",
        "    print(\"Before function execution\")\n",
        "    result = func(*args, **kwargs)\n",
        "    print(\"After function execution\")\n",
        "    return result\n",
        "\n",
        "  return wrapper\n",
        "\n",
        "@my_decorator\n",
        "def say_hello(name):\n",
        "  \"\"\"This function greets the person passed in as a parameter.\"\"\"\n",
        "  print(f\"Hello, {name}!\")\n",
        "\n",
        "say_hello(\"Alice\")\n",
        "print(f\"{say_hello.__name__ = }\") # Output: say_hello (due to functools.wraps)\n",
        "print(f\"{say_hello.__doc__ = }\") # Output: This function greets the person passed in as a parameter.\n"
      ],
      "metadata": {
        "id": "Lu-gKskywxbp"
      },
      "execution_count": null,
      "outputs": []
    },
    {
      "cell_type": "code",
      "source": [
        "# @title functools.partial\n",
        "\n",
        "from functools import partial\n",
        "\n",
        "def power(base, exponent):\n",
        "  return base ** exponent\n",
        "\n",
        "# Create a partial function that squares a number\n",
        "square = partial(power, exponent=2)\n",
        "\n",
        "# Use the partial function\n",
        "print(f\"{square(5) = }\")  # Output: 25\n",
        "\n",
        "# Create a partial function that cubes a number\n",
        "cube = partial(power, exponent=3)\n",
        "print(f\"{cube(3) = }\") # Output: 27\n"
      ],
      "metadata": {
        "colab": {
          "base_uri": "https://localhost:8080/"
        },
        "id": "d2aR6y2J21o7",
        "outputId": "f8fbca7f-0f85-4c9d-a4e8-0b28cbc244b6"
      },
      "execution_count": null,
      "outputs": [
        {
          "output_type": "stream",
          "name": "stdout",
          "text": [
            "square(5) = 25\n",
            "cube(3) = 27\n"
          ]
        }
      ]
    },
    {
      "cell_type": "code",
      "source": [
        "%%timeit\n",
        "# @title fibonacci without cache\n",
        "\n",
        "\n",
        "def fibonacci_nocache(n):\n",
        "  if n < 2:\n",
        "    return n\n",
        "  return fibonacci_nocache(n-1) + fibonacci_nocache(n-2)\n",
        "\n",
        "\n",
        "fibonacci_nocache(10)"
      ],
      "metadata": {
        "colab": {
          "base_uri": "https://localhost:8080/"
        },
        "id": "stTl-iRD3C5J",
        "outputId": "61df14ba-2b1f-41df-ea99-84da5270a4b3"
      },
      "execution_count": null,
      "outputs": [
        {
          "output_type": "stream",
          "name": "stdout",
          "text": [
            "18.7 µs ± 2.54 µs per loop (mean ± std. dev. of 7 runs, 100000 loops each)\n"
          ]
        }
      ]
    },
    {
      "cell_type": "code",
      "source": [
        "%%timeit\n",
        "# @title fibonacci with cache\n",
        "\n",
        "from functools import cache\n",
        "\n",
        "@cache\n",
        "def fibonacci(n):\n",
        "  if n < 2:\n",
        "    return n\n",
        "  return fibonacci(n-1) + fibonacci(n-2)\n",
        "\n",
        "# Now calls to fibonacci will be cached\n",
        "fibonacci(10)\n"
      ],
      "metadata": {
        "colab": {
          "base_uri": "https://localhost:8080/"
        },
        "id": "jiMp-G573aTD",
        "outputId": "eea48a25-a6ff-495b-9bb9-46de3ae6c5ff"
      },
      "execution_count": null,
      "outputs": [
        {
          "output_type": "stream",
          "name": "stdout",
          "text": [
            "6.3 µs ± 82.8 ns per loop (mean ± std. dev. of 7 runs, 100000 loops each)\n"
          ]
        }
      ]
    },
    {
      "cell_type": "code",
      "source": [],
      "metadata": {
        "id": "kD0nUDtP4SN-"
      },
      "execution_count": null,
      "outputs": []
    },
    {
      "cell_type": "code",
      "source": [
        "start = time.time()\n",
        "f30 = fibonacci(30)\n",
        "end = time.time()\n",
        "print(f\"{f30 = }\")\n",
        "print(f\"Time taken: {end - start}\")"
      ],
      "metadata": {
        "colab": {
          "base_uri": "https://localhost:8080/"
        },
        "id": "ieFf7S2w3yxI",
        "outputId": "dabae264-8e34-4fbb-d68d-401bb6981b03"
      },
      "execution_count": null,
      "outputs": [
        {
          "output_type": "stream",
          "name": "stdout",
          "text": [
            "f30 = 832040\n",
            "Time taken: 0.17267346382141113\n"
          ]
        }
      ]
    },
    {
      "cell_type": "markdown",
      "source": [
        "## Collections"
      ],
      "metadata": {
        "id": "Ju0dHcHD43b1"
      }
    },
    {
      "cell_type": "code",
      "source": [
        "# @title defaultdict\n",
        "\n",
        "from collections import defaultdict\n",
        "\n",
        "# Initialize a defaultdict with a default value of 0 for integers\n",
        "int_dict = defaultdict(int)\n",
        "\n",
        "# Access non-existent keys; they will be automatically initialized to 0\n",
        "int_dict['a'] += 1\n",
        "int_dict['b'] += 5\n",
        "\n",
        "print(int_dict)  # Output: defaultdict(<class 'int'>, {'a': 1, 'b': 5})\n",
        "print(int_dict['c']) # Output: 0 (default value)\n",
        "\n",
        "# Initialize with a default factory of list\n",
        "list_dict = defaultdict(list)\n",
        "\n",
        "list_dict['a'].append(1)\n",
        "list_dict['a'].append(2)\n",
        "list_dict['b'].append(3)\n",
        "\n",
        "\n",
        "print(list_dict) # Output: defaultdict(<class 'list'>, {'a': [1, 2], 'b': [3]})\n",
        "print(list_dict['c']) # Output: [] (default empty list)\n"
      ],
      "metadata": {
        "id": "DuASx3qF4Nqz"
      },
      "execution_count": null,
      "outputs": []
    },
    {
      "cell_type": "code",
      "source": [
        "# @title counter\n",
        "\n",
        "from collections import Counter\n",
        "\n",
        "# Sample data\n",
        "data = [1, 2, 2, 3, 3, 3, 4, 4, 4, 4]\n",
        "\n",
        "# Create a Counter object\n",
        "count = Counter(data)\n",
        "\n",
        "# Print the counts\n",
        "print(count)  # Output: Counter({4: 4, 3: 3, 2: 2, 1: 1})\n",
        "\n",
        "# Access the count of a specific element\n",
        "print(count[3])  # Output: 3\n",
        "\n",
        "# Access the count of a non-existent element (returns 0)\n",
        "print(count[5]) # Output: 0\n"
      ],
      "metadata": {
        "colab": {
          "base_uri": "https://localhost:8080/"
        },
        "id": "-m23GAvv5Jet",
        "outputId": "6ea8a289-be91-495b-aec3-726bb6e22835"
      },
      "execution_count": null,
      "outputs": [
        {
          "output_type": "stream",
          "name": "stdout",
          "text": [
            "Counter({4: 4, 3: 3, 2: 2, 1: 1})\n",
            "3\n",
            "0\n"
          ]
        }
      ]
    },
    {
      "cell_type": "code",
      "source": [
        "# @title deque\n",
        "\n",
        "from collections import deque\n",
        "\n",
        "# Create a deque\n",
        "my_deque = deque([1, 2, 3])\n",
        "\n",
        "# Append elements to the right\n",
        "my_deque.append(4)\n",
        "my_deque.append(5)\n",
        "print(\"Deque after appending elements:\", my_deque)\n",
        "\n",
        "# Append elements to the left\n",
        "my_deque.appendleft(0)\n",
        "my_deque.appendleft(-1)\n",
        "print(\"Deque after appending elements to the left:\", my_deque)\n",
        "\n",
        "# Pop elements from the right\n",
        "popped_element = my_deque.pop()\n",
        "print(\"Popped element:\", popped_element)\n",
        "print(\"Deque after popping element:\", my_deque)\n",
        "\n",
        "# Pop elements from the left\n",
        "popped_element = my_deque.popleft()\n",
        "print(\"Popped element:\", popped_element)\n",
        "print(\"Deque after popping element from left:\", my_deque)\n"
      ],
      "metadata": {
        "id": "bjDUXbl35ZNH"
      },
      "execution_count": null,
      "outputs": []
    },
    {
      "cell_type": "markdown",
      "source": [
        "## itertools"
      ],
      "metadata": {
        "id": "h6xWOKkd527S"
      }
    },
    {
      "cell_type": "code",
      "source": [
        "# @title itertools.chain\n",
        "\n",
        "import itertools\n",
        "\n",
        "# Example 1: Chaining multiple iterables\n",
        "list1 = [1, 2, 3]\n",
        "list2 = ['a', 'b', 'c']\n",
        "list3 = (4, 5, 6)\n",
        "\n",
        "chained_iter = itertools.chain(list1, list2, list3)\n",
        "\n",
        "for item in chained_iter:\n",
        "    print(item)\n"
      ],
      "metadata": {
        "colab": {
          "base_uri": "https://localhost:8080/"
        },
        "id": "k-4cRkv354Xm",
        "outputId": "c6a10808-44bc-4b3b-aa38-409c3159cadf"
      },
      "execution_count": null,
      "outputs": [
        {
          "output_type": "stream",
          "name": "stdout",
          "text": [
            "1\n",
            "2\n",
            "3\n",
            "a\n",
            "b\n",
            "c\n",
            "4\n",
            "5\n",
            "6\n"
          ]
        }
      ]
    },
    {
      "cell_type": "code",
      "source": [
        "# @title itertools.cycle\n",
        "\n",
        "import itertools\n",
        "\n",
        "# Create an iterator that cycles through the elements of a list\n",
        "my_list = [1, 2, 3]\n",
        "cycle_iter = itertools.cycle(my_list)\n",
        "\n",
        "# Iterate through the cycle (will repeat indefinitely)\n",
        "for idx in range(10):  # Print the first 10 elements of the cycle\n",
        "    print(idx, next(cycle_iter))\n"
      ],
      "metadata": {
        "colab": {
          "base_uri": "https://localhost:8080/"
        },
        "id": "gwhXX4Xy6CuZ",
        "outputId": "cf5c0ab3-55db-458a-cc8d-e762fad9ca65"
      },
      "execution_count": null,
      "outputs": [
        {
          "output_type": "stream",
          "name": "stdout",
          "text": [
            "0 1\n",
            "1 2\n",
            "2 3\n",
            "3 1\n",
            "4 2\n",
            "5 3\n",
            "6 1\n",
            "7 2\n",
            "8 3\n",
            "9 1\n"
          ]
        }
      ]
    },
    {
      "cell_type": "code",
      "source": [
        "# @title itertools.permutation\n",
        "\n",
        "import itertools\n",
        "\n",
        "my_list = ['A', 'B', 'C']\n",
        "permutations_iter = itertools.permutations(my_list)\n",
        "\n",
        "for permutation in permutations_iter:\n",
        "    print(permutation)\n"
      ],
      "metadata": {
        "colab": {
          "base_uri": "https://localhost:8080/"
        },
        "id": "sQ3SGuDy6KrJ",
        "outputId": "53560090-9dd0-4b68-a610-1ffe92b90984"
      },
      "execution_count": null,
      "outputs": [
        {
          "output_type": "stream",
          "name": "stdout",
          "text": [
            "('A', 'B', 'C')\n",
            "('A', 'C', 'B')\n",
            "('B', 'A', 'C')\n",
            "('B', 'C', 'A')\n",
            "('C', 'A', 'B')\n",
            "('C', 'B', 'A')\n"
          ]
        }
      ]
    },
    {
      "cell_type": "code",
      "source": [
        "# @title itertools.combination\n",
        "\n",
        "import itertools\n",
        "\n",
        "my_list = ['a', 'b', 'c', 'd']\n",
        "combinations_iter = itertools.combinations(my_list, 2)  # Combinations of length 2\n",
        "\n",
        "for combination in combinations_iter:\n",
        "    print(combination)\n"
      ],
      "metadata": {
        "colab": {
          "base_uri": "https://localhost:8080/"
        },
        "id": "zKI_Ogv46WGG",
        "outputId": "00ac2537-d856-4d57-b880-2106ea4f083b"
      },
      "execution_count": null,
      "outputs": [
        {
          "output_type": "stream",
          "name": "stdout",
          "text": [
            "('a', 'b')\n",
            "('a', 'c')\n",
            "('a', 'd')\n",
            "('b', 'c')\n",
            "('b', 'd')\n",
            "('c', 'd')\n"
          ]
        }
      ]
    },
    {
      "cell_type": "code",
      "source": [],
      "metadata": {
        "id": "hHT0uxA76c-o"
      },
      "execution_count": null,
      "outputs": []
    }
  ]
}