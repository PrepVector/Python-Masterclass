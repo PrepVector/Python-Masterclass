{
  "cells": [
    {
      "cell_type": "markdown",
      "metadata": {
        "id": "jSigNYysypNN"
      },
      "source": [
        "## Basics"
      ]
    },
    {
      "cell_type": "markdown",
      "metadata": {
        "id": "ncgOlHaiiPMH"
      },
      "source": [
        "### Q1 - Basic Operations\n",
        "Create two variables, `num1` and `num2`. Assign `num1` the value 25 and `num2` the value 7.\n",
        "\n",
        "Then, calculate their sum, difference, product, and quotient, storing each result in a separate variable (e.g., sum_val, diff_val, prod_val, quot_val).\n",
        "\n",
        "Finally, print all four results.\n",
        "\n"
      ]
    },
    {
      "cell_type": "code",
      "execution_count": null,
      "metadata": {
        "id": "8XSb30qYiJTa"
      },
      "outputs": [],
      "source": []
    },
    {
      "cell_type": "markdown",
      "metadata": {
        "id": "a3RFvjb1jZV4"
      },
      "source": [
        "### Q2 - List Manipulation\n",
        "\n",
        "Given the list fruits = `[\"apple\", \"banana\", \"cherry\"]`:\n",
        "\n",
        "a) Add \"orange\" to the end of the list.\n",
        "\n",
        "b) Insert \"grape\" at the second position (index 1).\n",
        "\n",
        "c) Remove \"banana\" from the list.\n",
        "\n",
        "d) Print the final list."
      ]
    },
    {
      "cell_type": "code",
      "execution_count": null,
      "metadata": {
        "id": "mOTqSiqdj5vo"
      },
      "outputs": [],
      "source": []
    },
    {
      "cell_type": "markdown",
      "metadata": {
        "id": "lmTzQAOjj6P3"
      },
      "source": [
        "### Q3 - Dictionary Operations\n",
        "\n",
        "Given the dictionary\n",
        "\n",
        "`student = {\"name\": \"Alice\", \"age\": 20, \"major\": \"Computer Science\"}`:\n",
        "\n",
        "a) Add a new key-value pair (\"gpa\", 3.8) to the dictionary.\n",
        "\n",
        "b) Change the value of \"age\" to 21.\n",
        "\n",
        "c) Print all the keys in the dictionary.\n",
        "\n",
        "d) Print the value associated with the key \"major\"."
      ]
    },
    {
      "cell_type": "code",
      "execution_count": null,
      "metadata": {
        "id": "Howorm1fkSKj"
      },
      "outputs": [],
      "source": []
    },
    {
      "cell_type": "markdown",
      "metadata": {
        "id": "3Kq_Jjdzk04a"
      },
      "source": [
        "### Q4 - Conditional Logic\n",
        "\n",
        "Write an if-elif-else statement that checks the value of a variable score.\n",
        "\n",
        "- If score is 90 or above, print \"Excellent!\"\n",
        "- If score is between 70 and 89 (inclusive), print \"Good.\"\n",
        "- Otherwise, print \"Needs Improvement.\" Test your code with score = 85."
      ]
    },
    {
      "cell_type": "code",
      "execution_count": null,
      "metadata": {
        "id": "-0pMuWT3lA-Z"
      },
      "outputs": [],
      "source": []
    },
    {
      "cell_type": "markdown",
      "metadata": {
        "id": "3aIhtwaNlqBO"
      },
      "source": [
        "### Q5 - For Loop Iteration\n",
        "\n",
        "Use `a` for loop to iterate through the list `numbers = [1, 2, 3, 4, 5]` and print the square of each number.\n",
        "\n"
      ]
    },
    {
      "cell_type": "code",
      "execution_count": null,
      "metadata": {
        "id": "yMEiiWGJnFcA"
      },
      "outputs": [],
      "source": []
    },
    {
      "cell_type": "markdown",
      "metadata": {
        "id": "SaAQUx7lnC2i"
      },
      "source": [
        "### Q6 - For Loop Iteration\n",
        "\n",
        "Use a while loop to print numbers from 10 down to 1.\n",
        "\n",
        "\n"
      ]
    },
    {
      "cell_type": "code",
      "execution_count": null,
      "metadata": {
        "id": "OrEDoMqel6gM"
      },
      "outputs": [],
      "source": []
    },
    {
      "cell_type": "markdown",
      "metadata": {
        "id": "EPIixgmJoxKN"
      },
      "source": [
        "### Q7 - Basic Function Definition and Call\n",
        "\n",
        "Define a function named calculate_area that takes two arguments, `length` and `width`, and returns their product (the area).\n",
        "\n",
        "Then, call the function with length = 5 and width = 8, and print the returned area."
      ]
    },
    {
      "cell_type": "code",
      "execution_count": null,
      "metadata": {
        "id": "lXtNQZwHo9Oc"
      },
      "outputs": [],
      "source": []
    },
    {
      "cell_type": "markdown",
      "metadata": {
        "id": "-hzD3b8ZpVa2"
      },
      "source": [
        "### Q8 - Function with Conditional Logic\n",
        "\n",
        "Define a function called `check_even_odd` that takes one integer argument num.\n",
        "\n",
        "Inside the function, print whether the number is \"Even\" or \"Odd\".\n",
        "\n",
        "Call the function with check_even_odd(4) and check_even_odd(7)."
      ]
    },
    {
      "cell_type": "code",
      "execution_count": null,
      "metadata": {
        "id": "NUjfD-Y_q4OQ"
      },
      "outputs": [],
      "source": []
    },
    {
      "cell_type": "markdown",
      "metadata": {
        "id": "7-escBknq4wB"
      },
      "source": [
        "### Q9 - Classes and objects\n",
        "\n",
        "Define a class named Car.\n",
        "\n",
        "- The Car class should have an __init__ method that takes make and model as arguments and assigns them to instance variables.\n",
        "\n",
        "- It should also have a method called display_info that prints \"This is a [make] [model].\" Create an object (instance) of the Car class for a \"Toyota Camry\" and then call its display_info method."
      ]
    },
    {
      "cell_type": "code",
      "execution_count": null,
      "metadata": {
        "id": "Ys2mLIsJr3M4"
      },
      "outputs": [],
      "source": []
    },
    {
      "cell_type": "markdown",
      "metadata": {
        "id": "7KyUhsuFsB1C"
      },
      "source": [
        "### Q10 - Tuples\n",
        "\n",
        "Create a tuple named `coordinates` with the values `(10, 20)`.\n",
        "Try to change the first element of the tuple to `15`. What happens? (Describe the error or outcome).\n",
        "Then, print the original `coordinates` tuple."
      ]
    },
    {
      "cell_type": "code",
      "execution_count": null,
      "metadata": {
        "id": "BpH2sTMdtrAs"
      },
      "outputs": [],
      "source": []
    },
    {
      "cell_type": "markdown",
      "metadata": {
        "id": "oGBgBxWEylw_"
      },
      "source": [
        "## Intermediate"
      ]
    },
    {
      "cell_type": "markdown",
      "metadata": {
        "id": "-S_-ZU2e0G_u"
      },
      "source": [
        "### Q11 - sorting\n",
        "\n",
        "Given an array\n",
        "```\n",
        "arr = [\n",
        "    (-1, -0.49, 'e'),\n",
        "    (2, 0.86, 'h'),\n",
        "    (-8, -0.46, 'i'),\n",
        "    (7, 0.17, 'c'),\n",
        "    (-2, -0.04, 'f'),\n",
        "    (-8, -0.34, 'j'),\n",
        "    (0, 0.88, 'a'),\n",
        "    (5, -0.43, 'g'),\n",
        "    (1, 0.12, 'd'),\n",
        "    (0, 0.25, 'b')\n",
        "]\n",
        "```\n",
        "\n",
        "Sort them in following ways -\n",
        "\n",
        "a) first, second and third elements, individually\n",
        "\n",
        "b) sum of first 2 elements\n",
        "\n",
        "c) pair of (3rd, 1st) element\n",
        "\n",
        "d) pair of (3rd, 1st, negative of 2nd) element"
      ]
    },
    {
      "cell_type": "code",
      "execution_count": null,
      "metadata": {
        "id": "_enR5M3rzQ6f"
      },
      "outputs": [],
      "source": []
    },
    {
      "cell_type": "markdown",
      "metadata": {
        "id": "hjzzGOk32H5S"
      },
      "source": [
        "### Q12 - Packing/Unpacking\n",
        "\n",
        "Create a function that takes 3 numbers and returns sum of these. Pass parameters to it in following ways -\n",
        "- `*args`\n",
        "- `**kwargs`"
      ]
    },
    {
      "cell_type": "code",
      "execution_count": null,
      "metadata": {
        "id": "fUtdJmoa7YNW"
      },
      "outputs": [],
      "source": []
    },
    {
      "cell_type": "markdown",
      "metadata": {
        "id": "Kln2eDXM7ozf"
      },
      "source": [
        "### Q13 - Comprehension\n",
        "\n",
        "Given a string of unique characters, create a function that -\n",
        "\n",
        "- validates character counts (should be 1 for each char, use assert, Counter to verify)\n",
        "- create char to index map\n",
        "- create index to char map\n",
        "\n",
        "and return both maps"
      ]
    },
    {
      "cell_type": "code",
      "execution_count": null,
      "metadata": {
        "id": "O62QhJk_AWEp"
      },
      "outputs": [],
      "source": []
    },
    {
      "cell_type": "markdown",
      "metadata": {
        "id": "embaXzkI_g3G"
      },
      "source": [
        "### Q14 - Decorators\n",
        "\n",
        "Create a decorator that measures the time of any function."
      ]
    },
    {
      "cell_type": "code",
      "execution_count": null,
      "metadata": {
        "id": "nLy4AlKqAjm6"
      },
      "outputs": [],
      "source": []
    },
    {
      "cell_type": "code",
      "execution_count": null,
      "metadata": {
        "id": "onQBiDIFAnqY"
      },
      "outputs": [],
      "source": []
    },
    {
      "cell_type": "code",
      "execution_count": null,
      "metadata": {
        "id": "L5dCLBMOCiKn"
      },
      "outputs": [],
      "source": []
    }
  ],
  "metadata": {
    "colab": {
      "provenance": [],
      "toc_visible": true
    },
    "kernelspec": {
      "display_name": "Python 3",
      "name": "python3"
    },
    "language_info": {
      "name": "python"
    }
  },
  "nbformat": 4,
  "nbformat_minor": 0
}
