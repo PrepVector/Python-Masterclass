{
  "cells": [
    {
      "cell_type": "markdown",
      "metadata": {
        "id": "jSigNYysypNN"
      },
      "source": [
        "## Basics"
      ]
    },
    {
      "cell_type": "markdown",
      "metadata": {
        "id": "ncgOlHaiiPMH"
      },
      "source": [
        "### Q1 - Basic Operations\n",
        "Create two variables, `num1` and `num2`. Assign `num1` the value 25 and `num2` the value 7.\n",
        "\n",
        "Then, calculate their sum, difference, product, and quotient, storing each result in a separate variable (e.g., sum_val, diff_val, prod_val, quot_val).\n",
        "\n",
        "Finally, print all four results.\n",
        "\n"
      ]
    },
    {
      "cell_type": "markdown",
      "metadata": {
        "id": "asOh8IN4i-qG"
      },
      "source": [
        "#### Answer 1\n",
        "<details>\n",
        "<summary>Click to show Answer</summary>\n",
        "\n",
        "```python\n",
        "num1 = 25\n",
        "num2 = 7\n",
        "\n",
        "sum_val = num1 + num2\n",
        "diff_val = num1 - num2\n",
        "prod_val = num1 * num2\n",
        "quot_val = num1 / num2 # Division results in a float\n",
        "\n",
        "print(f\"Sum: {sum_val}\")\n",
        "print(f\"Difference: {diff_val}\")\n",
        "print(f\"Product: {prod_val}\")\n",
        "print(f\"Quotient: {quot_val}\")\n",
        "\n",
        "```\n",
        "</details>"
      ]
    },
    {
      "cell_type": "code",
      "execution_count": null,
      "metadata": {
        "id": "8XSb30qYiJTa"
      },
      "outputs": [],
      "source": []
    },
    {
      "cell_type": "markdown",
      "metadata": {
        "id": "a3RFvjb1jZV4"
      },
      "source": [
        "### Q2 - List Manipulation\n",
        "\n",
        "Given the list fruits = `[\"apple\", \"banana\", \"cherry\"]`:\n",
        "\n",
        "a) Add \"orange\" to the end of the list.\n",
        "\n",
        "b) Insert \"grape\" at the second position (index 1).\n",
        "\n",
        "c) Remove \"banana\" from the list.\n",
        "\n",
        "d) Print the final list."
      ]
    },
    {
      "cell_type": "markdown",
      "metadata": {
        "id": "gyw9Y6K1jxmw"
      },
      "source": [
        "#### Answer 2\n",
        "<details>\n",
        "<summary>Click to show Answer</summary>\n",
        "\n",
        "```python\n",
        "fruits = [\"apple\", \"banana\", \"cherry\"]\n",
        "\n",
        "# a) Add \"orange\" to the end of the list.\n",
        "fruits.append(\"orange\")\n",
        "\n",
        "# b) Insert \"grape\" at the second position (index 1).\n",
        "fruits.insert(1, \"grape\")\n",
        "\n",
        "# c) Remove \"banana\" from the list.\n",
        "fruits.remove(\"banana\")\n",
        "\n",
        "# d) Print the final list.\n",
        "print(fruits)\n",
        "\n",
        "```\n",
        "</details>"
      ]
    },
    {
      "cell_type": "code",
      "execution_count": null,
      "metadata": {
        "id": "mOTqSiqdj5vo"
      },
      "outputs": [],
      "source": []
    },
    {
      "cell_type": "markdown",
      "metadata": {
        "id": "lmTzQAOjj6P3"
      },
      "source": [
        "### Q3 - Dictionary Operations\n",
        "\n",
        "Given the dictionary\n",
        "\n",
        "`student = {\"name\": \"Alice\", \"age\": 20, \"major\": \"Computer Science\"}`:\n",
        "\n",
        "a) Add a new key-value pair (\"gpa\", 3.8) to the dictionary.\n",
        "\n",
        "b) Change the value of \"age\" to 21.\n",
        "\n",
        "c) Print all the keys in the dictionary.\n",
        "\n",
        "d) Print the value associated with the key \"major\"."
      ]
    },
    {
      "cell_type": "markdown",
      "metadata": {
        "id": "RnwFVmAyj6HB"
      },
      "source": [
        "#### Answer 3\n",
        "<details>\n",
        "<summary>Click to show Answer</summary>\n",
        "\n",
        "```python\n",
        "student = {\"name\": \"Alice\", \"age\": 20, \"major\": \"Computer Science\"}\n",
        "\n",
        "# a) Add a new key-value pair (\"gpa\", 3.8) to the dictionary.\n",
        "student[\"gpa\"] = 3.8\n",
        "\n",
        "# b) Change the value of \"age\" to 21.\n",
        "student[\"age\"] = 21\n",
        "\n",
        "# c) Print all the keys in the dictionary.\n",
        "print(student.keys())\n",
        "\n",
        "# d) Print the value associated with the key \"major\".\n",
        "print(student[\"major\"])\n",
        "\n",
        "```\n",
        "\n",
        "Expected Output for c): dict_keys(['name', 'age', 'major', 'gpa']) (order might vary slightly in older Python versions)\n",
        "\n",
        "Expected Output for d): Computer Science\n",
        "</details>\n",
        "\n"
      ]
    },
    {
      "cell_type": "code",
      "execution_count": null,
      "metadata": {
        "id": "Howorm1fkSKj"
      },
      "outputs": [],
      "source": []
    },
    {
      "cell_type": "markdown",
      "metadata": {
        "id": "3Kq_Jjdzk04a"
      },
      "source": [
        "### Q4 - Conditional Logic\n",
        "\n",
        "Write an if-elif-else statement that checks the value of a variable score.\n",
        "\n",
        "- If score is 90 or above, print \"Excellent!\"\n",
        "- If score is between 70 and 89 (inclusive), print \"Good.\"\n",
        "- Otherwise, print \"Needs Improvement.\" Test your code with score = 85."
      ]
    },
    {
      "cell_type": "markdown",
      "metadata": {
        "id": "vHGKhL9TlBmm"
      },
      "source": [
        "#### Answer 4\n",
        "<details>\n",
        "<summary>Click to show Answer</summary>\n",
        "\n",
        "```python\n",
        "score = 85\n",
        "\n",
        "if score >= 90:\n",
        "    print(\"Excellent!\")\n",
        "elif score >= 70 and score <= 89:\n",
        "    # Could also be just `elif score >= 70:` given the order\n",
        "    print(\"Good.\")\n",
        "else:\n",
        "    print(\"Needs Improvement.\")\n",
        "\n",
        "```\n",
        "\n",
        "</details>\n",
        "\n"
      ]
    },
    {
      "cell_type": "code",
      "execution_count": null,
      "metadata": {
        "id": "-0pMuWT3lA-Z"
      },
      "outputs": [],
      "source": []
    },
    {
      "cell_type": "markdown",
      "metadata": {
        "id": "3aIhtwaNlqBO"
      },
      "source": [
        "### Q5 - For Loop Iteration\n",
        "\n",
        "Use `a` for loop to iterate through the list `numbers = [1, 2, 3, 4, 5]` and print the square of each number.\n",
        "\n"
      ]
    },
    {
      "cell_type": "markdown",
      "metadata": {
        "id": "fSfPGL-vl7Kl"
      },
      "source": [
        "#### Answer 5\n",
        "<details>\n",
        "<summary>Click to show Answer</summary>\n",
        "\n",
        "```python\n",
        "numbers = [1, 2, 3, 4, 5]\n",
        "\n",
        "for num in numbers:\n",
        "    print(num * num)\n",
        "```\n",
        "\n",
        "</details>\n",
        "\n"
      ]
    },
    {
      "cell_type": "code",
      "execution_count": null,
      "metadata": {
        "id": "yMEiiWGJnFcA"
      },
      "outputs": [],
      "source": []
    },
    {
      "cell_type": "markdown",
      "metadata": {
        "id": "SaAQUx7lnC2i"
      },
      "source": [
        "### Q6 - For Loop Iteration\n",
        "\n",
        "Use a while loop to print numbers from 10 down to 1.\n",
        "\n",
        "\n"
      ]
    },
    {
      "cell_type": "markdown",
      "metadata": {
        "id": "RBFFryzMoiNP"
      },
      "source": [
        "#### Answer 6\n",
        "\n",
        "<details>\n",
        "<summary>Click to show Answer</summary>\n",
        "\n",
        "```python\n",
        "count = 10\n",
        "while count >= 1:\n",
        "    print(count)\n",
        "    count -= 1\n",
        "\n",
        "```\n",
        "\n",
        "</details>\n",
        "\n"
      ]
    },
    {
      "cell_type": "code",
      "execution_count": null,
      "metadata": {
        "id": "OrEDoMqel6gM"
      },
      "outputs": [],
      "source": []
    },
    {
      "cell_type": "markdown",
      "metadata": {
        "id": "EPIixgmJoxKN"
      },
      "source": [
        "### Q7 - Basic Function Definition and Call\n",
        "\n",
        "Define a function named calculate_area that takes two arguments, `length` and `width`, and returns their product (the area).\n",
        "\n",
        "Then, call the function with length = 5 and width = 8, and print the returned area."
      ]
    },
    {
      "cell_type": "markdown",
      "metadata": {
        "id": "wyYNC9wLo905"
      },
      "source": [
        "#### Answer 7\n",
        "\n",
        "<details>\n",
        "<summary>Click to show Answer</summary>\n",
        "\n",
        "```python\n",
        "def calculate_area(length, width):\n",
        "    return length * width\n",
        "\n",
        "area_result = calculate_area(5, 8)\n",
        "print(f\"The area is: {area_result}\")\n",
        "\n",
        "```\n",
        "\n",
        "</details>\n",
        "\n"
      ]
    },
    {
      "cell_type": "code",
      "execution_count": null,
      "metadata": {
        "id": "lXtNQZwHo9Oc"
      },
      "outputs": [],
      "source": []
    },
    {
      "cell_type": "markdown",
      "metadata": {
        "id": "-hzD3b8ZpVa2"
      },
      "source": [
        "### Q8 - Function with Conditional Logic\n",
        "\n",
        "Define a function called `check_even_odd` that takes one integer argument num.\n",
        "\n",
        "Inside the function, print whether the number is \"Even\" or \"Odd\".\n",
        "\n",
        "Call the function with check_even_odd(4) and check_even_odd(7)."
      ]
    },
    {
      "cell_type": "markdown",
      "metadata": {
        "id": "h_TMe2k8pgQV"
      },
      "source": [
        "#### Answer 8\n",
        "\n",
        "<details>\n",
        "<summary>Click to show Answer</summary>\n",
        "\n",
        "```python\n",
        "def check_even_odd(num):\n",
        "    if num % 2 == 0:\n",
        "        print(\"Even\")\n",
        "    else:\n",
        "        print(\"Odd\")\n",
        "\n",
        "check_even_odd(4)\n",
        "check_even_odd(7)\n",
        "\n",
        "```\n",
        "\n",
        "</details>\n",
        "\n"
      ]
    },
    {
      "cell_type": "code",
      "execution_count": null,
      "metadata": {
        "id": "NUjfD-Y_q4OQ"
      },
      "outputs": [],
      "source": []
    },
    {
      "cell_type": "markdown",
      "metadata": {
        "id": "7-escBknq4wB"
      },
      "source": [
        "### Q9 - Classes and objects\n",
        "\n",
        "Define a class named Car.\n",
        "\n",
        "- The Car class should have an __init__ method that takes make and model as arguments and assigns them to instance variables.\n",
        "\n",
        "- It should also have a method called display_info that prints \"This is a [make] [model].\" Create an object (instance) of the Car class for a \"Toyota Camry\" and then call its display_info method."
      ]
    },
    {
      "cell_type": "markdown",
      "metadata": {
        "id": "mQ0IF6HYr3td"
      },
      "source": [
        "#### Answer 9\n",
        "\n",
        "<details>\n",
        "<summary>Click to show Answer</summary>\n",
        "\n",
        "```python\n",
        "class Car:\n",
        "    def __init__(self, make, model):\n",
        "        self.make = make\n",
        "        self.model = model\n",
        "\n",
        "    def display_info(self):\n",
        "        print(f\"This is a {self.make} {self.model}.\")\n",
        "\n",
        "# Create an object\n",
        "my_car = Car(\"Toyota\", \"Camry\")\n",
        "\n",
        "# Call its method\n",
        "my_car.display_info()\n",
        "```\n",
        "\n",
        "</details>\n",
        "\n"
      ]
    },
    {
      "cell_type": "code",
      "execution_count": null,
      "metadata": {
        "id": "Ys2mLIsJr3M4"
      },
      "outputs": [],
      "source": []
    },
    {
      "cell_type": "markdown",
      "metadata": {
        "id": "7KyUhsuFsB1C"
      },
      "source": [
        "### Q10 - Tuples\n",
        "\n",
        "Create a tuple named `coordinates` with the values `(10, 20)`.\n",
        "Try to change the first element of the tuple to `15`. What happens? (Describe the error or outcome).\n",
        "Then, print the original `coordinates` tuple."
      ]
    },
    {
      "cell_type": "markdown",
      "metadata": {
        "id": "vurMmJnZsHL9"
      },
      "source": [
        "#### Answer 10\n",
        "\n",
        "<details>\n",
        "<summary>Click to show Answer</summary>\n",
        "\n",
        "```python\n",
        "coordinates = (10, 20)\n",
        "\n",
        "try:\n",
        "    coordinates[0] = 15\n",
        "except TypeError as e:\n",
        "    print(f\"Error trying to change tuple element: {e}\")\n",
        "\n",
        "print(f\"Original coordinates tuple: {coordinates}\")\n",
        "```\n",
        "\n",
        "</details>\n",
        "\n",
        "\n"
      ]
    },
    {
      "cell_type": "code",
      "execution_count": null,
      "metadata": {
        "id": "BpH2sTMdtrAs"
      },
      "outputs": [],
      "source": []
    },
    {
      "cell_type": "markdown",
      "metadata": {
        "id": "oGBgBxWEylw_"
      },
      "source": [
        "## Intermediate"
      ]
    },
    {
      "cell_type": "markdown",
      "metadata": {
        "id": "-S_-ZU2e0G_u"
      },
      "source": [
        "### Q11 - sorting\n",
        "\n",
        "Given an array\n",
        "```\n",
        "arr = [\n",
        "    (-1, -0.49, 'e'),\n",
        "    (2, 0.86, 'h'),\n",
        "    (-8, -0.46, 'i'),\n",
        "    (7, 0.17, 'c'),\n",
        "    (-2, -0.04, 'f'),\n",
        "    (-8, -0.34, 'j'),\n",
        "    (0, 0.88, 'a'),\n",
        "    (5, -0.43, 'g'),\n",
        "    (1, 0.12, 'd'),\n",
        "    (0, 0.25, 'b')\n",
        "]\n",
        "```\n",
        "\n",
        "Sort them in following ways -\n",
        "\n",
        "a) first, second and third elements, individually\n",
        "\n",
        "b) sum of first 2 elements\n",
        "\n",
        "c) pair of (3rd, 1st) element\n",
        "\n",
        "d) pair of (3rd, 1st, negative of 2nd) element"
      ]
    },
    {
      "cell_type": "markdown",
      "metadata": {
        "id": "LI-n60P30-t5"
      },
      "source": [
        "#### Answer 11\n",
        "\n",
        "<details>\n",
        "<summary>Click to show Answer</summary>\n",
        "\n",
        "\n",
        "```python\n",
        "arr = [\n",
        "    (-1, -0.49, 'e'),\n",
        "    (2, 0.86, 'h'),\n",
        "    (-8, -0.46, 'i'),\n",
        "    (7, 0.17, 'c'),\n",
        "    (-2, -0.04, 'f'),\n",
        "    (-8, -0.34, 'j'),\n",
        "    (0, 0.88, 'a'),\n",
        "    (5, -0.43, 'g'),\n",
        "    (1, 0.12, 'd'),\n",
        "    (0, 0.25, 'b')\n",
        "]\n",
        "\n",
        "print(\"Original Array:\")\n",
        "for item in arr:\n",
        "    print(item)\n",
        "print(\"-\" * 30)\n",
        "\n",
        "# a) Sort by first, second, and third elements, individually\n",
        "# This is the default tuple sorting behavior\n",
        "sorted_a = sorted(arr)\n",
        "print(\"a) Sorted by first, second, and third elements (default tuple sort):\")\n",
        "for item in sorted_a:\n",
        "    print(item)\n",
        "print(\"-\" * 30)\n",
        "\n",
        "# b) Sort by sum of first 2 elements\n",
        "sorted_b = sorted(arr, key=lambda x: x[0] + x[1])\n",
        "print(\"b) Sorted by sum of first 2 elements:\")\n",
        "for item in sorted_b:\n",
        "    print(item)\n",
        "print(\"-\" * 30)\n",
        "\n",
        "# c) Sort by pair of (3rd, 1st) element\n",
        "sorted_c = sorted(arr, key=lambda x: (x[2], x[0]))\n",
        "print(\"c) Sorted by pair of (3rd, 1st) element:\")\n",
        "for item in sorted_c:\n",
        "    print(item)\n",
        "print(\"-\" * 30)\n",
        "\n",
        "# d) Sort by pair of (3rd, 1st, negative of 2nd) element\n",
        "# We use -x[1] to sort the second element (which is negative) in ascending order effectively\n",
        "sorted_d = sorted(arr, key=lambda x: (x[2], x[0], -x[1]))\n",
        "print(\"d) Sorted by pair of (3rd, 1st, negative of 2nd) element:\")\n",
        "for item in sorted_d:\n",
        "    print(item)\n",
        "print(\"-\" * 30)\n",
        "```\n",
        "\n",
        "</details>"
      ]
    },
    {
      "cell_type": "code",
      "execution_count": null,
      "metadata": {
        "id": "_enR5M3rzQ6f"
      },
      "outputs": [],
      "source": []
    },
    {
      "cell_type": "markdown",
      "metadata": {
        "id": "hjzzGOk32H5S"
      },
      "source": [
        "### Q12 - Packing/Unpacking\n",
        "\n",
        "Create a function that takes 3 numbers and returns sum of these. Pass parameters to it in following ways -\n",
        "- `*args`\n",
        "- `**kwargs`"
      ]
    },
    {
      "cell_type": "markdown",
      "metadata": {
        "id": "roil5i0X6rRS"
      },
      "source": [
        "#### Answer 11\n",
        "\n",
        "<details>\n",
        "<summary>Click to show Answer</summary>\n",
        "\n",
        "\n",
        "```python\n",
        "def add(num1, num2, num3):\n",
        "    return num1 + num2 + num3\n",
        "\n",
        "\n",
        "arr = [10, 11, 13]\n",
        "a, b, c = arr\n",
        "kwargs = {f\"num{i}\": ele for i, ele in enumerate(arr, 1)}\n",
        "print(f\"{kwargs=}\")\n",
        "\n",
        "# explicit calling\n",
        "print(add(a, b, c))\n",
        "\n",
        "# args call\n",
        "print(add(*arr))\n",
        "\n",
        "# kwargs call\n",
        "print(add(**kwargs))\n",
        "\n",
        "\n",
        "```\n",
        "\n",
        "</details>"
      ]
    },
    {
      "cell_type": "code",
      "execution_count": null,
      "metadata": {
        "id": "fUtdJmoa7YNW"
      },
      "outputs": [],
      "source": []
    },
    {
      "cell_type": "markdown",
      "metadata": {
        "id": "Kln2eDXM7ozf"
      },
      "source": [
        "### Q13 - Comprehension\n",
        "\n",
        "Given a string of unique characters, create a function that -\n",
        "\n",
        "- validates character counts (should be 1 for each char, use assert, Counter to verify)\n",
        "- create char to index map\n",
        "- create index to char map\n",
        "\n",
        "and return both maps"
      ]
    },
    {
      "cell_type": "markdown",
      "metadata": {
        "id": "IkOxddhg-uo_"
      },
      "source": [
        "#### Answer 13\n",
        "\n",
        "<details>\n",
        "<summary>Click to show Answer</summary>\n",
        "\n",
        "```python\n",
        "from collections import Counter\n",
        "\n",
        "def create_char_maps(s):\n",
        "  # Validate character counts\n",
        "  char_counts = Counter(s)\n",
        "  for char, count in char_counts.items():\n",
        "    assert count == 1, f\"Character '{char}' appears {count} times, but should be unique.\"\n",
        "\n",
        "  # Create char to index map using dictionary comprehension\n",
        "  char_to_index_map = {char: index for index, char in enumerate(s)}\n",
        "\n",
        "  # Create index to char map using dictionary comprehension\n",
        "  index_to_char_map = {index: char for index, char in enumerate(s)}\n",
        "\n",
        "  return char_to_index_map, index_to_char_map\n",
        "\n",
        "# Example usage:\n",
        "unique_string = \"abcdefg\"\n",
        "char_to_index, index_to_char = create_char_maps(unique_string)\n",
        "\n",
        "print(\"Character to Index Map:\", char_to_index)\n",
        "print(\"Index to Character Map:\", index_to_char)\n",
        "\n",
        "# Example with a non-unique string (will raise an AssertionError)\n",
        "# try:\n",
        "#     non_unique_string = \"programming\"\n",
        "#     create_char_maps(non_unique_string)\n",
        "# except AssertionError as e:\n",
        "#     print(f\"AssertionError caught: {e}\")\n",
        "\n",
        "```"
      ]
    },
    {
      "cell_type": "code",
      "execution_count": null,
      "metadata": {
        "id": "O62QhJk_AWEp"
      },
      "outputs": [],
      "source": []
    },
    {
      "cell_type": "markdown",
      "metadata": {
        "id": "embaXzkI_g3G"
      },
      "source": [
        "### Q14 - Decorators\n",
        "\n",
        "Create a decorator that measures the time of any function."
      ]
    },
    {
      "cell_type": "markdown",
      "metadata": {
        "id": "iXsSK4D2AOR7"
      },
      "source": [
        "#### Answer 14\n",
        "\n",
        "<details>\n",
        "<summary>Click to show Answer</summary>\n",
        "\n",
        "```python\n",
        "import time\n",
        "from functools import wraps\n",
        "\n",
        "def timer(func):\n",
        "    @wraps(func)\n",
        "    def wrapper(*args, **kwargs):\n",
        "        start_time = time.time()  # Record the start time\n",
        "        result = func(*args, **kwargs) # Call the original function\n",
        "        end_time = time.time()    # Record the end time\n",
        "        execution_time = end_time - start_time\n",
        "        print(f\"'{func.__name__}' executed in {execution_time:.4f} seconds.\")\n",
        "        return result # Return the result of the original function\n",
        "\n",
        "    return wrapper\n",
        "\n",
        "# --- Example Usage ---\n",
        "\n",
        "@timer\n",
        "def calculate_sum(n):\n",
        "    total = 0\n",
        "    for i in range(n + 1):\n",
        "        total += i\n",
        "    return total\n",
        "\n",
        "print(calculate_sum(1000000000))\n",
        "```"
      ]
    },
    {
      "cell_type": "code",
      "execution_count": null,
      "metadata": {
        "id": "nLy4AlKqAjm6"
      },
      "outputs": [],
      "source": []
    },
    {
      "cell_type": "code",
      "execution_count": null,
      "metadata": {
        "id": "onQBiDIFAnqY"
      },
      "outputs": [],
      "source": []
    },
    {
      "cell_type": "markdown",
      "metadata": {},
      "source": [
        "### Q15 - Group Elements by Frequency\n",
        "\n",
        "Given a list of integers, group them by frequency. Return a list of lists, sorted by frequency descending. Elements within the same group should be sorted in ascending order.\n",
        "\n",
        "```Python\n",
        "Input: [4, 1, 2, 2, 3, 1, 4, 4]\n",
        "Output: [[4], [1, 2], [3]]\n",
        "\n",
        "```"
      ]
    },
    {
      "cell_type": "markdown",
      "metadata": {},
      "source": [
        "#### Answer 15\n",
        "\n",
        "<details>\n",
        "<summary>Click to show Answer</summary>\n",
        "\n",
        "```python\n",
        "from collections import Counter\n",
        "\n",
        "def group_by_frequency(nums):\n",
        "    freq = Counter(nums)\n",
        "    groups = {}\n",
        "\n",
        "    for num, count in freq.items():\n",
        "        groups.setdefault(count, []).append(num)\n",
        "\n",
        "    result = []\n",
        "    for count in sorted(groups.keys(), reverse=True):\n",
        "        result.append(sorted(groups[count]))\n",
        "\n",
        "    return result\n",
        "\n",
        "# Test\n",
        "print(group_by_frequency([4, 1, 2, 2, 3, 1, 4, 4]))\n",
        "\n",
        "```"
      ]
    },
    {
      "cell_type": "code",
      "execution_count": null,
      "metadata": {},
      "outputs": [],
      "source": []
    },
    {
      "cell_type": "markdown",
      "metadata": {},
      "source": [
        "### Q16 - Most Common Non-Banned Word\n",
        "\n",
        "Return the most frequent non-banned word from a paragraph.\n",
        "\n",
        "```Python\n",
        "Input:\n",
        "paragraph = \"Bob hit a ball, the hit BALL flew far after it was hit.\"\n",
        "banned = [\"hit\"]\n",
        "\n",
        "Output: \"ball\"\n",
        "\n",
        "```"
      ]
    },
    {
      "cell_type": "markdown",
      "metadata": {},
      "source": [
        "#### Answer 16\n",
        "\n",
        "<details>\n",
        "<summary>Click to show Answer</summary>\n",
        "\n",
        "```python\n",
        "from collections import Counter\n",
        "\n",
        "def most_common_word(paragraph, banned):\n",
        "    banned_set = set(banned)\n",
        "    words = []\n",
        "    word = []\n",
        "\n",
        "    for ch in paragraph:\n",
        "        if ch.isalpha():\n",
        "            word.append(ch.lower())\n",
        "        elif word:\n",
        "            words.append(\"\".join(word))\n",
        "            word = []\n",
        "    \n",
        "    if word:\n",
        "        words.append(\"\".join(word))\n",
        "\n",
        "    count = Counter(w for w in words if w not in banned_set)\n",
        "    return count.most_common(1)[0][0]\n",
        "\n",
        "# Test\n",
        "print(most_common_word(\"Bob hit a ball, the hit BALL flew far after it was hit.\", [\"hit\"]))\n",
        "\n",
        "\n",
        "```\n",
        "\n"
      ]
    },
    {
      "cell_type": "code",
      "execution_count": null,
      "metadata": {},
      "outputs": [],
      "source": []
    },
    {
      "cell_type": "markdown",
      "metadata": {},
      "source": [
        "### Q17 - Index Pairs of Matching Substrings\n",
        "\n",
        "Find all pairs (i, j) such that words[i] + words[j] == target.\n",
        "\n",
        "```Python\n",
        "Input:\n",
        "words = [\"ab\", \"c\", \"abc\", \"bc\"]\n",
        "target = \"abc\"\n",
        "\n",
        "Output: [(0, 1), (2, 3)]\n",
        "\n",
        "```"
      ]
    },
    {
      "cell_type": "markdown",
      "metadata": {},
      "source": [
        "#### Answer 17 \n",
        "\n",
        "<details>\n",
        "<summary>Click to show Answer</summary>\n",
        "\n",
        "```Python \n",
        "\n",
        "def find_concat_pairs(words, target):\n",
        "    word_map = {word: idx for idx, word in enumerate(words)}\n",
        "    result = []\n",
        "\n",
        "    for i, word in enumerate(words):\n",
        "        if target.startswith(word):\n",
        "            suffix = target[len(word):]\n",
        "            if suffix in word_map and word_map[suffix] != i:\n",
        "                result.append((i, word_map[suffix]))\n",
        "    return result\n",
        "\n",
        "# Test\n",
        "print(find_concat_pairs([\"ab\", \"c\", \"abc\", \"bc\"], \"abc\"))\n",
        "```"
      ]
    },
    {
      "cell_type": "markdown",
      "metadata": {},
      "source": []
    },
    {
      "cell_type": "markdown",
      "metadata": {},
      "source": [
        "### Q18 - Product Recommendation by Category\n",
        "\n",
        "Find the most purchased category per user.\n",
        "\n",
        "```Python\n",
        "Input:\n",
        "purchases (user_id, product_category) = [(1, \"p1\"), (1, \"p2\"), (2, \"p3\"), (1, \"p3\")]\n",
        "product_category = {\"p1\": \"electronics\", \"p2\": \"books\", \"p3\": \"electronics\"}\n",
        "\n",
        "Output:\n",
        "{1: [\"electronics\"], 2: [\"electronics\"]}\n",
        "\n",
        "```"
      ]
    },
    {
      "cell_type": "markdown",
      "metadata": {},
      "source": [
        "#### Answer 18\n",
        "\n",
        "<details>\n",
        "<summary>Click to show Answer</summary>\n",
        "\n",
        "\n",
        "```Python\n",
        "from collections import defaultdict, Counter\n",
        "\n",
        "def user_top_categories(purchases, product_category):\n",
        "    user_cat = defaultdict(list)\n",
        "\n",
        "    for user, prod in purchases:\n",
        "        category = product_category.get(prod)\n",
        "        if category:\n",
        "            user_cat[user].append(category)\n",
        "\n",
        "    result = {}\n",
        "    for user, cats in user_cat.items():\n",
        "        count = Counter(cats)\n",
        "        max_freq = max(count.values())\n",
        "        result[user] = [cat for cat, freq in count.items() if freq == max_freq]\n",
        "    return result\n",
        "\n",
        "# Test\n",
        "purchases = [(1, \"p1\"), (1, \"p2\"), (2, \"p3\"), (1, \"p3\")]\n",
        "product_category = {\"p1\": \"electronics\", \"p2\": \"books\", \"p3\": \"electronics\"}\n",
        "print(user_top_categories(purchases, product_category))\n",
        "\n",
        "```"
      ]
    },
    {
      "cell_type": "code",
      "execution_count": null,
      "metadata": {},
      "outputs": [],
      "source": []
    },
    {
      "cell_type": "markdown",
      "metadata": {},
      "source": [
        "### Q19 - Top K Frequent Items per Category\n",
        "\n",
        "Return the top K frequent items for each category.\n",
        "\n",
        "```Python\n",
        "Input:\n",
        "data = [(\"fruit\", \"apple\"), (\"fruit\", \"banana\"), (\"fruit\", \"apple\"), (\"veg\", \"carrot\")]\n",
        "k = 1\n",
        "\n",
        "Output:\n",
        "{\"fruit\": [\"apple\"], \"veg\": [\"carrot\"]}\n",
        "\n",
        "```"
      ]
    },
    {
      "cell_type": "markdown",
      "metadata": {},
      "source": [
        "#### Answer 19\n",
        "\n",
        "<details>\n",
        "<summary>Click to show Answer</summary>\n",
        "\n",
        "```Python \n",
        "from collections import defaultdict, Counter\n",
        "\n",
        "def top_k_per_category(data, k):\n",
        "    cat_items = defaultdict(list)\n",
        "\n",
        "    for cat, item in data:\n",
        "        cat_items[cat].append(item)\n",
        "\n",
        "    result = {}\n",
        "    for cat, items in cat_items.items():\n",
        "        count = Counter(items)\n",
        "        top_k = [item for item, _ in count.most_common(k)]\n",
        "        result[cat] = top_k\n",
        "\n",
        "    return result\n",
        "\n",
        "# Test\n",
        "data = [(\"fruit\", \"apple\"), (\"fruit\", \"banana\"), (\"fruit\", \"apple\"), (\"veg\", \"carrot\")]\n",
        "print(top_k_per_category(data, 1))\n",
        "\n",
        "```"
      ]
    },
    {
      "cell_type": "code",
      "execution_count": null,
      "metadata": {},
      "outputs": [],
      "source": []
    },
    {
      "cell_type": "markdown",
      "metadata": {},
      "source": [
        "### Q20 - Given a list of words, group them by their anagrams.\n",
        "\n",
        "```Python \n",
        "Input: [\"bat\", \"tab\", \"tap\", \"pat\", \"cat\"]\n",
        "Output: [[\"bat\", \"tab\"], [\"tap\", \"pat\"], [\"cat\"]]\n",
        "\n",
        "```"
      ]
    },
    {
      "cell_type": "markdown",
      "metadata": {},
      "source": [
        "#### Answer 20\n",
        "\n",
        "<details>\n",
        "<summary>Click to show Answer</summary>\n",
        "\n",
        "```Python \n",
        "from collections import defaultdict, Counter\n",
        "\n",
        "def group_anagrams(words: List[str]) -> List[List[str]]:\n",
        "    anagram_groups = defaultdict(list)\n",
        "    for word in words:\n",
        "        key = tuple(sorted(word))\n",
        "        anagram_groups[key].append(word)\n",
        "    return list(anagram_groups.values())\n",
        "\n",
        "```"
      ]
    },
    {
      "cell_type": "code",
      "execution_count": null,
      "metadata": {},
      "outputs": [],
      "source": []
    },
    {
      "cell_type": "markdown",
      "metadata": {},
      "source": [
        "### Q21 - Student Top Scores\n",
        "\n",
        "Given a list of (student_name, score) tuples, return each student’s highest score.\n",
        "\n",
        "```Python\n",
        "Input: [(\"Alice\", 91), (\"Bob\", 84), (\"Alice\", 94)]\n",
        "Output: {\"Alice\": 94, \"Bob\": 84}\n",
        "\n",
        "```"
      ]
    },
    {
      "cell_type": "markdown",
      "metadata": {},
      "source": [
        "#### Answer 21\n",
        "\n",
        "<details>\n",
        "<summary>Click to show Answer</summary>\n",
        "\n",
        "```Python \n",
        "def student_top_scores(scores: List[Tuple[str, int]]) -> Dict[str, int]:\n",
        "    top_scores = {}\n",
        "    for name, score in scores:\n",
        "        if name not in top_scores or score > top_scores[name]:\n",
        "            top_scores[name] = score\n",
        "    return top_scores\n",
        "\n",
        "```"
      ]
    },
    {
      "cell_type": "code",
      "execution_count": null,
      "metadata": {},
      "outputs": [],
      "source": []
    },
    {
      "cell_type": "markdown",
      "metadata": {},
      "source": [
        "### Q22 -  First Unique Word\n",
        "Given a string `s` and a list of banned words, return the first non-repeating word not in the banned list.\n",
        "\n",
        "```Python\n",
        "Input: \"apple banana apple orange banana grape\", [\"grape\"]\n",
        "Output: \"orange\"\n",
        "\n",
        "```"
      ]
    },
    {
      "cell_type": "markdown",
      "metadata": {},
      "source": [
        "#### Answer 22\n",
        "\n",
        "<details>\n",
        "<summary>Click to show Answer</summary>\n",
        "\n",
        "```Python \n",
        "def first_unique_word(s: str, banned: List[str]) -> str:\n",
        "    words = ''.join([ch.lower() if ch.isalnum() else ' ' for ch in s]).split()\n",
        "    banned_set = set(banned)\n",
        "    freq = Counter(word for word in words if word not in banned_set)\n",
        "    for word in words:\n",
        "        if freq[word] == 1 and word not in banned_set:\n",
        "            return word\n",
        "    return \"\"\n",
        "\n",
        "```"
      ]
    },
    {
      "cell_type": "code",
      "execution_count": null,
      "metadata": {},
      "outputs": [],
      "source": []
    },
    {
      "cell_type": "markdown",
      "metadata": {},
      "source": [
        "### Q23 - Group Words by Starting Letter\n",
        "Group a list of words by their starting letter.\n",
        "\n",
        "```Python \n",
        "Input: [\"apple\", \"ant\", \"banana\", \"bat\", \"ball\"]\n",
        "Output: {\"a\": [\"apple\", \"ant\"], \"b\": [\"banana\", \"bat\", \"ball\"]}\n",
        "\n",
        "```"
      ]
    },
    {
      "cell_type": "markdown",
      "metadata": {},
      "source": [
        "#### Answer 23\n",
        "\n",
        "<details>\n",
        "<summary>Click to show Answer</summary>\n",
        "\n",
        "```Python \n",
        "def group_by_starting_letter(words: List[str]) -> Dict[str, List[str]]:\n",
        "    result = defaultdict(list)\n",
        "    for word in words:\n",
        "        if word:\n",
        "            result[word[0].lower()].append(word)\n",
        "    return dict(result)\n",
        "\n",
        "```"
      ]
    },
    {
      "cell_type": "code",
      "execution_count": null,
      "metadata": {},
      "outputs": [],
      "source": []
    },
    {
      "cell_type": "markdown",
      "metadata": {},
      "source": [
        "### Q24 - Common Characters Between Two Sentences\n",
        "\n",
        "Given two sentences, return a list of common characters (ignoring case and excluding punctuation) sorted alphabetically.\n",
        "\n",
        "```Python \n",
        "Input: \"Hello, World!\", \"Hold the Door\"\n",
        "Output: ['d', 'e', 'h', 'l', 'o', 'r']\n",
        "\n",
        "```"
      ]
    },
    {
      "cell_type": "markdown",
      "metadata": {},
      "source": [
        "#### Answer 24\n",
        "\n",
        "<details>\n",
        "<summary>Click to show Answer</summary>\n",
        "\n",
        "```Python \n",
        "def common_characters(s1: str, s2: str) -> List[str]:\n",
        "    set1 = set(ch.lower() for ch in s1 if ch.isalpha())\n",
        "    set2 = set(ch.lower() for ch in s2 if ch.isalpha())\n",
        "    return sorted(set1 & set2)\n",
        "\n",
        "```"
      ]
    },
    {
      "cell_type": "code",
      "execution_count": null,
      "metadata": {},
      "outputs": [],
      "source": []
    },
    {
      "cell_type": "markdown",
      "metadata": {},
      "source": [
        "### Q25 - Word Frequency Counter\n",
        "\n",
        "Return a list of words sorted by frequency (descending), ignoring case and punctuation.\n",
        "\n",
        "\n",
        "```Python\n",
        "Input: \"Cat cat dog! Dog dog? mouse.\"\n",
        "Output: [(\"dog\", 3), (\"cat\", 2), (\"mouse\", 1)]\n",
        "\n",
        "```"
      ]
    },
    {
      "cell_type": "markdown",
      "metadata": {},
      "source": [
        "#### Answer 25\n",
        "\n",
        "<details>\n",
        "<summary>Click to show Answer</summary>\n",
        "\n",
        "```Python \n",
        "def word_frequency(s: str) -> List[Tuple[str, int]]:\n",
        "    words = ''.join([ch.lower() if ch.isalnum() else ' ' for ch in s]).split()\n",
        "    freq = Counter(words)\n",
        "    return sorted(freq.items(), key=lambda x: -x[1])\n",
        "\n",
        "```"
      ]
    },
    {
      "cell_type": "code",
      "execution_count": null,
      "metadata": {},
      "outputs": [],
      "source": []
    },
    {
      "cell_type": "code",
      "execution_count": null,
      "metadata": {},
      "outputs": [],
      "source": []
    }
  ],
  "metadata": {
    "colab": {
      "provenance": [],
      "toc_visible": true
    },
    "kernelspec": {
      "display_name": "test",
      "language": "python",
      "name": "python3"
    },
    "language_info": {
      "codemirror_mode": {
        "name": "ipython",
        "version": 3
      },
      "file_extension": ".py",
      "mimetype": "text/x-python",
      "name": "python",
      "nbconvert_exporter": "python",
      "pygments_lexer": "ipython3",
      "version": "3.10.16"
    }
  },
  "nbformat": 4,
  "nbformat_minor": 0
}
