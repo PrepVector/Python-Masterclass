{
  "nbformat": 4,
  "nbformat_minor": 0,
  "metadata": {
    "colab": {
      "provenance": [],
      "toc_visible": true
    },
    "kernelspec": {
      "name": "python3",
      "display_name": "Python 3"
    },
    "language_info": {
      "name": "python"
    }
  },
  "cells": [
    {
      "cell_type": "markdown",
      "source": [
        "## Basics"
      ],
      "metadata": {
        "id": "jSigNYysypNN"
      }
    },
    {
      "cell_type": "markdown",
      "source": [
        "### Q1 - Basic Operations\n",
        "Create two variables, `num1` and `num2`. Assign `num1` the value 25 and `num2` the value 7.\n",
        "\n",
        "Then, calculate their sum, difference, product, and quotient, storing each result in a separate variable (e.g., sum_val, diff_val, prod_val, quot_val).\n",
        "\n",
        "Finally, print all four results.\n",
        "\n"
      ],
      "metadata": {
        "id": "ncgOlHaiiPMH"
      }
    },
    {
      "cell_type": "markdown",
      "source": [
        "#### Answer 1\n",
        "<details>\n",
        "<summary>Click to show Answer</summary>\n",
        "\n",
        "```python\n",
        "num1 = 25\n",
        "num2 = 7\n",
        "\n",
        "sum_val = num1 + num2\n",
        "diff_val = num1 - num2\n",
        "prod_val = num1 * num2\n",
        "quot_val = num1 / num2 # Division results in a float\n",
        "\n",
        "print(f\"Sum: {sum_val}\")\n",
        "print(f\"Difference: {diff_val}\")\n",
        "print(f\"Product: {prod_val}\")\n",
        "print(f\"Quotient: {quot_val}\")\n",
        "\n",
        "```\n",
        "</details>"
      ],
      "metadata": {
        "id": "asOh8IN4i-qG"
      }
    },
    {
      "cell_type": "code",
      "execution_count": null,
      "metadata": {
        "id": "8XSb30qYiJTa"
      },
      "outputs": [],
      "source": []
    },
    {
      "cell_type": "markdown",
      "source": [
        "### Q2 - List Manipulation\n",
        "\n",
        "Given the list fruits = `[\"apple\", \"banana\", \"cherry\"]`:\n",
        "\n",
        "a) Add \"orange\" to the end of the list.\n",
        "\n",
        "b) Insert \"grape\" at the second position (index 1).\n",
        "\n",
        "c) Remove \"banana\" from the list.\n",
        "\n",
        "d) Print the final list."
      ],
      "metadata": {
        "id": "a3RFvjb1jZV4"
      }
    },
    {
      "cell_type": "markdown",
      "source": [
        "#### Answer 2\n",
        "<details>\n",
        "<summary>Click to show Answer</summary>\n",
        "\n",
        "```python\n",
        "fruits = [\"apple\", \"banana\", \"cherry\"]\n",
        "\n",
        "# a) Add \"orange\" to the end of the list.\n",
        "fruits.append(\"orange\")\n",
        "\n",
        "# b) Insert \"grape\" at the second position (index 1).\n",
        "fruits.insert(1, \"grape\")\n",
        "\n",
        "# c) Remove \"banana\" from the list.\n",
        "fruits.remove(\"banana\")\n",
        "\n",
        "# d) Print the final list.\n",
        "print(fruits)\n",
        "\n",
        "```\n",
        "</details>"
      ],
      "metadata": {
        "id": "gyw9Y6K1jxmw"
      }
    },
    {
      "cell_type": "code",
      "source": [],
      "metadata": {
        "id": "mOTqSiqdj5vo"
      },
      "execution_count": null,
      "outputs": []
    },
    {
      "cell_type": "markdown",
      "source": [
        "### Q3 - Dictionary Operations\n",
        "\n",
        "Given the dictionary\n",
        "\n",
        "`student = {\"name\": \"Alice\", \"age\": 20, \"major\": \"Computer Science\"}`:\n",
        "\n",
        "a) Add a new key-value pair (\"gpa\", 3.8) to the dictionary.\n",
        "\n",
        "b) Change the value of \"age\" to 21.\n",
        "\n",
        "c) Print all the keys in the dictionary.\n",
        "\n",
        "d) Print the value associated with the key \"major\"."
      ],
      "metadata": {
        "id": "lmTzQAOjj6P3"
      }
    },
    {
      "cell_type": "markdown",
      "source": [
        "#### Answer 3\n",
        "<details>\n",
        "<summary>Click to show Answer</summary>\n",
        "\n",
        "```python\n",
        "student = {\"name\": \"Alice\", \"age\": 20, \"major\": \"Computer Science\"}\n",
        "\n",
        "# a) Add a new key-value pair (\"gpa\", 3.8) to the dictionary.\n",
        "student[\"gpa\"] = 3.8\n",
        "\n",
        "# b) Change the value of \"age\" to 21.\n",
        "student[\"age\"] = 21\n",
        "\n",
        "# c) Print all the keys in the dictionary.\n",
        "print(student.keys())\n",
        "\n",
        "# d) Print the value associated with the key \"major\".\n",
        "print(student[\"major\"])\n",
        "\n",
        "```\n",
        "\n",
        "Expected Output for c): dict_keys(['name', 'age', 'major', 'gpa']) (order might vary slightly in older Python versions)\n",
        "\n",
        "Expected Output for d): Computer Science\n",
        "</details>\n",
        "\n"
      ],
      "metadata": {
        "id": "RnwFVmAyj6HB"
      }
    },
    {
      "cell_type": "code",
      "source": [],
      "metadata": {
        "id": "Howorm1fkSKj"
      },
      "execution_count": null,
      "outputs": []
    },
    {
      "cell_type": "markdown",
      "source": [
        "### Q4 - Conditional Logic\n",
        "\n",
        "Write an if-elif-else statement that checks the value of a variable score.\n",
        "\n",
        "- If score is 90 or above, print \"Excellent!\"\n",
        "- If score is between 70 and 89 (inclusive), print \"Good.\"\n",
        "- Otherwise, print \"Needs Improvement.\" Test your code with score = 85."
      ],
      "metadata": {
        "id": "3Kq_Jjdzk04a"
      }
    },
    {
      "cell_type": "markdown",
      "source": [
        "#### Answer 4\n",
        "<details>\n",
        "<summary>Click to show Answer</summary>\n",
        "\n",
        "```python\n",
        "score = 85\n",
        "\n",
        "if score >= 90:\n",
        "    print(\"Excellent!\")\n",
        "elif score >= 70 and score <= 89:\n",
        "    # Could also be just `elif score >= 70:` given the order\n",
        "    print(\"Good.\")\n",
        "else:\n",
        "    print(\"Needs Improvement.\")\n",
        "\n",
        "```\n",
        "\n",
        "</details>\n",
        "\n"
      ],
      "metadata": {
        "id": "vHGKhL9TlBmm"
      }
    },
    {
      "cell_type": "code",
      "source": [],
      "metadata": {
        "id": "-0pMuWT3lA-Z"
      },
      "execution_count": null,
      "outputs": []
    },
    {
      "cell_type": "markdown",
      "source": [
        "### Q5 - For Loop Iteration\n",
        "\n",
        "Use `a` for loop to iterate through the list `numbers = [1, 2, 3, 4, 5]` and print the square of each number.\n",
        "\n"
      ],
      "metadata": {
        "id": "3aIhtwaNlqBO"
      }
    },
    {
      "cell_type": "markdown",
      "source": [
        "#### Answer 5\n",
        "<details>\n",
        "<summary>Click to show Answer</summary>\n",
        "\n",
        "```python\n",
        "numbers = [1, 2, 3, 4, 5]\n",
        "\n",
        "for num in numbers:\n",
        "    print(num * num)\n",
        "```\n",
        "\n",
        "</details>\n",
        "\n"
      ],
      "metadata": {
        "id": "fSfPGL-vl7Kl"
      }
    },
    {
      "cell_type": "code",
      "source": [],
      "metadata": {
        "id": "yMEiiWGJnFcA"
      },
      "execution_count": null,
      "outputs": []
    },
    {
      "cell_type": "markdown",
      "source": [
        "### Q6 - For Loop Iteration\n",
        "\n",
        "Use a while loop to print numbers from 10 down to 1.\n",
        "\n",
        "\n"
      ],
      "metadata": {
        "id": "SaAQUx7lnC2i"
      }
    },
    {
      "cell_type": "markdown",
      "source": [
        "#### Answer 6\n",
        "\n",
        "<details>\n",
        "<summary>Click to show Answer</summary>\n",
        "\n",
        "```python\n",
        "count = 10\n",
        "while count >= 1:\n",
        "    print(count)\n",
        "    count -= 1\n",
        "\n",
        "```\n",
        "\n",
        "</details>\n",
        "\n"
      ],
      "metadata": {
        "id": "RBFFryzMoiNP"
      }
    },
    {
      "cell_type": "code",
      "source": [],
      "metadata": {
        "id": "OrEDoMqel6gM"
      },
      "execution_count": null,
      "outputs": []
    },
    {
      "cell_type": "markdown",
      "source": [
        "### Q7 - Basic Function Definition and Call\n",
        "\n",
        "Define a function named calculate_area that takes two arguments, `length` and `width`, and returns their product (the area).\n",
        "\n",
        "Then, call the function with length = 5 and width = 8, and print the returned area."
      ],
      "metadata": {
        "id": "EPIixgmJoxKN"
      }
    },
    {
      "cell_type": "markdown",
      "source": [
        "#### Answer 7\n",
        "\n",
        "<details>\n",
        "<summary>Click to show Answer</summary>\n",
        "\n",
        "```python\n",
        "def calculate_area(length, width):\n",
        "    return length * width\n",
        "\n",
        "area_result = calculate_area(5, 8)\n",
        "print(f\"The area is: {area_result}\")\n",
        "\n",
        "```\n",
        "\n",
        "</details>\n",
        "\n"
      ],
      "metadata": {
        "id": "wyYNC9wLo905"
      }
    },
    {
      "cell_type": "code",
      "source": [],
      "metadata": {
        "id": "lXtNQZwHo9Oc"
      },
      "execution_count": null,
      "outputs": []
    },
    {
      "cell_type": "markdown",
      "source": [
        "### Q8 - Function with Conditional Logic\n",
        "\n",
        "Define a function called `check_even_odd` that takes one integer argument num.\n",
        "\n",
        "Inside the function, print whether the number is \"Even\" or \"Odd\".\n",
        "\n",
        "Call the function with check_even_odd(4) and check_even_odd(7)."
      ],
      "metadata": {
        "id": "-hzD3b8ZpVa2"
      }
    },
    {
      "cell_type": "markdown",
      "source": [
        "#### Answer 8\n",
        "\n",
        "<details>\n",
        "<summary>Click to show Answer</summary>\n",
        "\n",
        "```python\n",
        "def check_even_odd(num):\n",
        "    if num % 2 == 0:\n",
        "        print(\"Even\")\n",
        "    else:\n",
        "        print(\"Odd\")\n",
        "\n",
        "check_even_odd(4)\n",
        "check_even_odd(7)\n",
        "\n",
        "```\n",
        "\n",
        "</details>\n",
        "\n"
      ],
      "metadata": {
        "id": "h_TMe2k8pgQV"
      }
    },
    {
      "cell_type": "code",
      "source": [],
      "metadata": {
        "id": "NUjfD-Y_q4OQ"
      },
      "execution_count": null,
      "outputs": []
    },
    {
      "cell_type": "markdown",
      "source": [
        "### Q9 - Classes and objects\n",
        "\n",
        "Define a class named Car.\n",
        "\n",
        "- The Car class should have an __init__ method that takes make and model as arguments and assigns them to instance variables.\n",
        "\n",
        "- It should also have a method called display_info that prints \"This is a [make] [model].\" Create an object (instance) of the Car class for a \"Toyota Camry\" and then call its display_info method."
      ],
      "metadata": {
        "id": "7-escBknq4wB"
      }
    },
    {
      "cell_type": "markdown",
      "source": [
        "#### Answer 9\n",
        "\n",
        "<details>\n",
        "<summary>Click to show Answer</summary>\n",
        "\n",
        "```python\n",
        "class Car:\n",
        "    def __init__(self, make, model):\n",
        "        self.make = make\n",
        "        self.model = model\n",
        "\n",
        "    def display_info(self):\n",
        "        print(f\"This is a {self.make} {self.model}.\")\n",
        "\n",
        "# Create an object\n",
        "my_car = Car(\"Toyota\", \"Camry\")\n",
        "\n",
        "# Call its method\n",
        "my_car.display_info()\n",
        "```\n",
        "\n",
        "</details>\n",
        "\n"
      ],
      "metadata": {
        "id": "mQ0IF6HYr3td"
      }
    },
    {
      "cell_type": "code",
      "source": [],
      "metadata": {
        "id": "Ys2mLIsJr3M4"
      },
      "execution_count": null,
      "outputs": []
    },
    {
      "cell_type": "markdown",
      "source": [
        "### Q10 - Tuples\n",
        "\n",
        "Create a tuple named `coordinates` with the values `(10, 20)`.\n",
        "Try to change the first element of the tuple to `15`. What happens? (Describe the error or outcome).\n",
        "Then, print the original `coordinates` tuple."
      ],
      "metadata": {
        "id": "7KyUhsuFsB1C"
      }
    },
    {
      "cell_type": "markdown",
      "source": [
        "#### Answer 10\n",
        "\n",
        "<details>\n",
        "<summary>Click to show Answer</summary>\n",
        "\n",
        "```python\n",
        "coordinates = (10, 20)\n",
        "\n",
        "try:\n",
        "    coordinates[0] = 15\n",
        "except TypeError as e:\n",
        "    print(f\"Error trying to change tuple element: {e}\")\n",
        "\n",
        "print(f\"Original coordinates tuple: {coordinates}\")\n",
        "```\n",
        "\n",
        "</details>\n",
        "\n",
        "\n"
      ],
      "metadata": {
        "id": "vurMmJnZsHL9"
      }
    },
    {
      "cell_type": "code",
      "source": [],
      "metadata": {
        "id": "BpH2sTMdtrAs"
      },
      "execution_count": null,
      "outputs": []
    },
    {
      "cell_type": "markdown",
      "source": [
        "## Intermediate"
      ],
      "metadata": {
        "id": "oGBgBxWEylw_"
      }
    },
    {
      "cell_type": "markdown",
      "source": [
        "### Q11 - sorting\n",
        "\n",
        "Given an array\n",
        "```\n",
        "arr = [\n",
        "    (-1, -0.49, 'e'),\n",
        "    (2, 0.86, 'h'),\n",
        "    (-8, -0.46, 'i'),\n",
        "    (7, 0.17, 'c'),\n",
        "    (-2, -0.04, 'f'),\n",
        "    (-8, -0.34, 'j'),\n",
        "    (0, 0.88, 'a'),\n",
        "    (5, -0.43, 'g'),\n",
        "    (1, 0.12, 'd'),\n",
        "    (0, 0.25, 'b')\n",
        "]\n",
        "```\n",
        "\n",
        "Sort them in following ways -\n",
        "\n",
        "a) first, second and third elements, individually\n",
        "\n",
        "b) sum of first 2 elements\n",
        "\n",
        "c) pair of (3rd, 1st) element\n",
        "\n",
        "d) pair of (3rd, 1st, negative of 2nd) element"
      ],
      "metadata": {
        "id": "-S_-ZU2e0G_u"
      }
    },
    {
      "cell_type": "markdown",
      "source": [
        "#### Answer 11\n",
        "\n",
        "<details>\n",
        "<summary>Click to show Answer</summary>\n",
        "\n",
        "\n",
        "```python\n",
        "arr = [\n",
        "    (-1, -0.49, 'e'),\n",
        "    (2, 0.86, 'h'),\n",
        "    (-8, -0.46, 'i'),\n",
        "    (7, 0.17, 'c'),\n",
        "    (-2, -0.04, 'f'),\n",
        "    (-8, -0.34, 'j'),\n",
        "    (0, 0.88, 'a'),\n",
        "    (5, -0.43, 'g'),\n",
        "    (1, 0.12, 'd'),\n",
        "    (0, 0.25, 'b')\n",
        "]\n",
        "\n",
        "print(\"Original Array:\")\n",
        "for item in arr:\n",
        "    print(item)\n",
        "print(\"-\" * 30)\n",
        "\n",
        "# a) Sort by first, second, and third elements, individually\n",
        "# This is the default tuple sorting behavior\n",
        "sorted_a = sorted(arr)\n",
        "print(\"a) Sorted by first, second, and third elements (default tuple sort):\")\n",
        "for item in sorted_a:\n",
        "    print(item)\n",
        "print(\"-\" * 30)\n",
        "\n",
        "# b) Sort by sum of first 2 elements\n",
        "sorted_b = sorted(arr, key=lambda x: x[0] + x[1])\n",
        "print(\"b) Sorted by sum of first 2 elements:\")\n",
        "for item in sorted_b:\n",
        "    print(item)\n",
        "print(\"-\" * 30)\n",
        "\n",
        "# c) Sort by pair of (3rd, 1st) element\n",
        "sorted_c = sorted(arr, key=lambda x: (x[2], x[0]))\n",
        "print(\"c) Sorted by pair of (3rd, 1st) element:\")\n",
        "for item in sorted_c:\n",
        "    print(item)\n",
        "print(\"-\" * 30)\n",
        "\n",
        "# d) Sort by pair of (3rd, 1st, negative of 2nd) element\n",
        "# We use -x[1] to sort the second element (which is negative) in ascending order effectively\n",
        "sorted_d = sorted(arr, key=lambda x: (x[2], x[0], -x[1]))\n",
        "print(\"d) Sorted by pair of (3rd, 1st, negative of 2nd) element:\")\n",
        "for item in sorted_d:\n",
        "    print(item)\n",
        "print(\"-\" * 30)\n",
        "```\n",
        "\n",
        "</details>"
      ],
      "metadata": {
        "id": "LI-n60P30-t5"
      }
    },
    {
      "cell_type": "code",
      "source": [],
      "metadata": {
        "id": "_enR5M3rzQ6f"
      },
      "execution_count": null,
      "outputs": []
    },
    {
      "cell_type": "markdown",
      "source": [
        "### Q12 - Packing/Unpacking\n",
        "\n",
        "Create a function that takes 3 numbers and returns sum of these. Pass parameters to it in following ways -\n",
        "- `*args`\n",
        "- `**kwargs`"
      ],
      "metadata": {
        "id": "hjzzGOk32H5S"
      }
    },
    {
      "cell_type": "markdown",
      "source": [
        "#### Answer 11\n",
        "\n",
        "<details>\n",
        "<summary>Click to show Answer</summary>\n",
        "\n",
        "\n",
        "```python\n",
        "def add(num1, num2, num3):\n",
        "    return num1 + num2 + num3\n",
        "\n",
        "\n",
        "arr = [10, 11, 13]\n",
        "a, b, c = arr\n",
        "kwargs = {f\"num{i}\": ele for i, ele in enumerate(arr, 1)}\n",
        "print(f\"{kwargs=}\")\n",
        "\n",
        "# explicit calling\n",
        "print(add(a, b, c))\n",
        "\n",
        "# args call\n",
        "print(add(*arr))\n",
        "\n",
        "# kwargs call\n",
        "print(add(**kwargs))\n",
        "\n",
        "\n",
        "```\n",
        "\n",
        "</details>"
      ],
      "metadata": {
        "id": "roil5i0X6rRS"
      }
    },
    {
      "cell_type": "code",
      "source": [],
      "metadata": {
        "id": "fUtdJmoa7YNW"
      },
      "execution_count": null,
      "outputs": []
    },
    {
      "cell_type": "markdown",
      "source": [
        "### Q13 - Comprehension\n",
        "\n",
        "Given a string of unique characters, create a function that -\n",
        "\n",
        "- validates character counts (should be 1 for each char, use assert, Counter to verify)\n",
        "- create char to index map\n",
        "- create index to char map\n",
        "\n",
        "and return both maps"
      ],
      "metadata": {
        "id": "Kln2eDXM7ozf"
      }
    },
    {
      "cell_type": "markdown",
      "source": [
        "#### Answer 13\n",
        "\n",
        "<details>\n",
        "<summary>Click to show Answer</summary>\n",
        "\n",
        "```python\n",
        "from collections import Counter\n",
        "\n",
        "def create_char_maps(s):\n",
        "  # Validate character counts\n",
        "  char_counts = Counter(s)\n",
        "  for char, count in char_counts.items():\n",
        "    assert count == 1, f\"Character '{char}' appears {count} times, but should be unique.\"\n",
        "\n",
        "  # Create char to index map using dictionary comprehension\n",
        "  char_to_index_map = {char: index for index, char in enumerate(s)}\n",
        "\n",
        "  # Create index to char map using dictionary comprehension\n",
        "  index_to_char_map = {index: char for index, char in enumerate(s)}\n",
        "\n",
        "  return char_to_index_map, index_to_char_map\n",
        "\n",
        "# Example usage:\n",
        "unique_string = \"abcdefg\"\n",
        "char_to_index, index_to_char = create_char_maps(unique_string)\n",
        "\n",
        "print(\"Character to Index Map:\", char_to_index)\n",
        "print(\"Index to Character Map:\", index_to_char)\n",
        "\n",
        "# Example with a non-unique string (will raise an AssertionError)\n",
        "# try:\n",
        "#     non_unique_string = \"programming\"\n",
        "#     create_char_maps(non_unique_string)\n",
        "# except AssertionError as e:\n",
        "#     print(f\"AssertionError caught: {e}\")\n",
        "\n",
        "```"
      ],
      "metadata": {
        "id": "IkOxddhg-uo_"
      }
    },
    {
      "cell_type": "code",
      "source": [],
      "metadata": {
        "id": "O62QhJk_AWEp"
      },
      "execution_count": null,
      "outputs": []
    },
    {
      "cell_type": "markdown",
      "source": [
        "### Q14 - Decorators\n",
        "\n",
        "Create a decorator that measures the time of any function."
      ],
      "metadata": {
        "id": "embaXzkI_g3G"
      }
    },
    {
      "cell_type": "markdown",
      "source": [
        "#### Answer 14\n",
        "\n",
        "<details>\n",
        "<summary>Click to show Answer</summary>\n",
        "\n",
        "```python\n",
        "import time\n",
        "from functools import wraps\n",
        "\n",
        "def timer(func):\n",
        "    @wraps(func)\n",
        "    def wrapper(*args, **kwargs):\n",
        "        start_time = time.time()  # Record the start time\n",
        "        result = func(*args, **kwargs) # Call the original function\n",
        "        end_time = time.time()    # Record the end time\n",
        "        execution_time = end_time - start_time\n",
        "        print(f\"'{func.__name__}' executed in {execution_time:.4f} seconds.\")\n",
        "        return result # Return the result of the original function\n",
        "\n",
        "    return wrapper\n",
        "\n",
        "# --- Example Usage ---\n",
        "\n",
        "@timer\n",
        "def calculate_sum(n):\n",
        "    total = 0\n",
        "    for i in range(n + 1):\n",
        "        total += i\n",
        "    return total\n",
        "\n",
        "print(calculate_sum(1000000000))\n",
        "```"
      ],
      "metadata": {
        "id": "iXsSK4D2AOR7"
      }
    },
    {
      "cell_type": "code",
      "source": [],
      "metadata": {
        "id": "nLy4AlKqAjm6"
      },
      "execution_count": null,
      "outputs": []
    },
    {
      "cell_type": "code",
      "source": [],
      "metadata": {
        "id": "onQBiDIFAnqY"
      },
      "execution_count": null,
      "outputs": []
    },
    {
      "cell_type": "code",
      "source": [],
      "metadata": {
        "id": "L5dCLBMOCiKn"
      },
      "execution_count": null,
      "outputs": []
    }
  ]
}